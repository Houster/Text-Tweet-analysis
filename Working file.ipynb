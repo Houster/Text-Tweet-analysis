{
 "cells": [
  {
   "cell_type": "code",
   "execution_count": 1,
   "metadata": {},
   "outputs": [],
   "source": [
    "import pandas as pd\n",
    "import numpy as np\n",
    "import seaborn as sns\n",
    "import matplotlib.pyplot as plt"
   ]
  },
  {
   "cell_type": "code",
   "execution_count": 2,
   "metadata": {},
   "outputs": [],
   "source": [
    "train=pd.read_csv(\"train.csv\")\n",
    "test=pd.read_csv(\"test.csv\")"
   ]
  },
  {
   "cell_type": "code",
   "execution_count": 3,
   "metadata": {},
   "outputs": [
    {
     "data": {
      "text/plain": [
       "id             0\n",
       "keyword       61\n",
       "location    2533\n",
       "text           0\n",
       "target         0\n",
       "dtype: int64"
      ]
     },
     "execution_count": 3,
     "metadata": {},
     "output_type": "execute_result"
    }
   ],
   "source": [
    "train.isna().sum()"
   ]
  },
  {
   "cell_type": "code",
   "execution_count": 4,
   "metadata": {},
   "outputs": [],
   "source": [
    "#train['keyword'].value_counts()"
   ]
  },
  {
   "cell_type": "code",
   "execution_count": 5,
   "metadata": {},
   "outputs": [],
   "source": [
    "#lower case\n",
    "train['text']=train['text'].apply(lambda x: \" \".join(x.lower() for x in x.split()))"
   ]
  },
  {
   "cell_type": "code",
   "execution_count": 6,
   "metadata": {},
   "outputs": [],
   "source": [
    "train['text']=train['text'].str.replace('\\d', '')"
   ]
  },
  {
   "cell_type": "code",
   "execution_count": 7,
   "metadata": {},
   "outputs": [],
   "source": [
    "import nltk\n",
    "from nltk.corpus import stopwords"
   ]
  },
  {
   "cell_type": "code",
   "execution_count": 8,
   "metadata": {},
   "outputs": [],
   "source": [
    "sw=stopwords.words(\"english\")\n",
    "sw.append(\"u\")\n",
    "sw.append(\"im\")"
   ]
  },
  {
   "cell_type": "code",
   "execution_count": 9,
   "metadata": {},
   "outputs": [],
   "source": [
    "#take out stopwords\n",
    "train['text']=train['text'].apply(lambda x: \" \".join(x for x in x.split() if x not in sw))"
   ]
  },
  {
   "cell_type": "code",
   "execution_count": 10,
   "metadata": {},
   "outputs": [],
   "source": [
    "from textblob import Word"
   ]
  },
  {
   "cell_type": "code",
   "execution_count": 11,
   "metadata": {},
   "outputs": [
    {
     "data": {
      "text/plain": [
       "0           deeds reason #earthquake may allah forgive us\n",
       "1                  forest fire near la ronge sask. canada\n",
       "2       residents asked 'shelter place' notified offic...\n",
       "3       , people receive #wildfires evacuation orders ...\n",
       "4       got sent photo ruby #alaska smoke #wildfires p...\n",
       "                              ...                        \n",
       "7608    two giant cranes holding bridge collapse nearb...\n",
       "7609    @aria_ahrary @thetawniest control wild fires c...\n",
       "7610    m. [: utc]?km volcano hawaii. http://t.co/zdto...\n",
       "7611    police investigating e-bike collided car littl...\n",
       "7612    latest: homes razed northern california wildfi...\n",
       "Name: text, Length: 7613, dtype: object"
      ]
     },
     "execution_count": 11,
     "metadata": {},
     "output_type": "execute_result"
    }
   ],
   "source": [
    "train['text']"
   ]
  },
  {
   "cell_type": "code",
   "execution_count": 12,
   "metadata": {},
   "outputs": [],
   "source": [
    "#Lemmatization. WordNetLemmatizer may be used instead\n",
    "train['text']=train['text'].apply(lambda x: \" \".join([Word(x).lemmatize() for x in x.split()]))"
   ]
  },
  {
   "cell_type": "code",
   "execution_count": 13,
   "metadata": {},
   "outputs": [],
   "source": [
    "# More data cleaning in general\n",
    "train[\"text\"] = train[\"text\"].str.replace('http[s]?://(?:[a-zA-Z]|[0-9]|[$-_@.&+]|[!*\\(\\),]|(?:%[0-9a-fA-F][0-9a-fA-F]))+',\"\")\n",
    "train[\"text\"] = train[\"text\"].str.replace(r\"We're\", \"We are\")\n",
    "train[\"text\"] = train[\"text\"].str.replace(r\"That's\", \"That is\")\n",
    "train[\"text\"] = train[\"text\"].str.replace(r\"won't\", \"will not\")\n",
    "train[\"text\"] = train[\"text\"].str.replace(r\"they're\", \"they are\")\n",
    "train[\"text\"] = train[\"text\"].str.replace(r\"Can't\", \"Cannot\")\n",
    "train[\"text\"] = train[\"text\"].str.replace(r\"wasn't\", \"was not\")\n",
    "train[\"text\"] = train[\"text\"].str.replace(r\"don\\x89Ûªt\", \"do not\")\n",
    "train[\"text\"] = train[\"text\"].str.replace(r\"aren't\", \"are not\")\n",
    "train[\"text\"] = train[\"text\"].str.replace(r\"isn't\", \"is not\")\n",
    "train[\"text\"] = train[\"text\"].str.replace(r\"You're\", \"You are\")\n",
    "train[\"text\"] = train[\"text\"].str.replace(r\"I'M\", \"I am\")\n",
    "train[\"text\"] = train[\"text\"].str.replace(r\"shouldn't\", \"should not\")\n",
    "train[\"text\"] = train[\"text\"].str.replace(r\"wouldn't\", \"would not\")\n",
    "train[\"text\"] = train[\"text\"].str.replace(r\"i'm\", \"I am\")\n",
    "train[\"text\"] = train[\"text\"].str.replace(r\"We've\", \"We have\")\n",
    "train[\"text\"] = train[\"text\"].str.replace(r\"Didn't\", \"Did not\")\n",
    "train[\"text\"] = train[\"text\"].str.replace(r\"it's\", \"it is\")\n",
    "train[\"text\"] = train[\"text\"].str.replace(r\"can't\", \"cannot\")\n",
    "train[\"text\"] = train[\"text\"].str.replace(r\"don't\", \"do not\")\n",
    "train[\"text\"] = train[\"text\"].str.replace(r\"you're\", \"you are\")\n",
    "train[\"text\"] = train[\"text\"].str.replace(r\"I've\", \"I have\")\n",
    "train[\"text\"] = train[\"text\"].str.replace(r\"Don't\", \"do not\")\n",
    "train[\"text\"] = train[\"text\"].str.replace(r\"I'll\", \"I will\")\n",
    "train[\"text\"] = train[\"text\"].str.replace(r\"Let's\", \"Let us\")\n",
    "train[\"text\"] = train[\"text\"].str.replace(r\"Could've\", \"Could have\")\n",
    "train[\"text\"] = train[\"text\"].str.replace(r\"youve\", \"you have\")\n",
    "train[\"text\"] = train[\"text\"].str.replace(r\"It's\", \"It is\")"
   ]
  },
  {
   "cell_type": "code",
   "execution_count": 15,
   "metadata": {},
   "outputs": [
    {
     "data": {
      "text/plain": [
       "0           deed reason #earthquake may allah forgive u\n",
       "1                forest fire near la ronge sask. canada\n",
       "2     resident asked 'shelter place' notified office...\n",
       "3     , people receive #wildfires evacuation order c...\n",
       "4     got sent photo ruby #alaska smoke #wildfires p...\n",
       "                            ...                        \n",
       "95    mile backup i- south...accident blocking right...\n",
       "96    accident changed life? help determine option f...\n",
       "97    #breaking: deadly motorcycle car accident happ...\n",
       "98                         @flowri marinading accident?\n",
       "99    car even week got fucking car accident .. mf c...\n",
       "Name: text, Length: 100, dtype: object"
      ]
     },
     "execution_count": 15,
     "metadata": {},
     "output_type": "execute_result"
    }
   ],
   "source": [
    "train['text'][0:100]"
   ]
  },
  {
   "cell_type": "code",
   "execution_count": 16,
   "metadata": {},
   "outputs": [],
   "source": [
    "freq=train['text'][0:1000].apply(lambda x: pd.value_counts(x.split(\" \"))).sum(axis=0).reset_index()"
   ]
  },
  {
   "cell_type": "code",
   "execution_count": 17,
   "metadata": {},
   "outputs": [],
   "source": [
    "freq.columns=['words','tf']"
   ]
  },
  {
   "cell_type": "code",
   "execution_count": 46,
   "metadata": {},
   "outputs": [
    {
     "data": {
      "text/html": [
       "<div>\n",
       "<style scoped>\n",
       "    .dataframe tbody tr th:only-of-type {\n",
       "        vertical-align: middle;\n",
       "    }\n",
       "\n",
       "    .dataframe tbody tr th {\n",
       "        vertical-align: top;\n",
       "    }\n",
       "\n",
       "    .dataframe thead th {\n",
       "        text-align: right;\n",
       "    }\n",
       "</style>\n",
       "<table border=\"1\" class=\"dataframe\">\n",
       "  <thead>\n",
       "    <tr style=\"text-align: right;\">\n",
       "      <th></th>\n",
       "      <th>words</th>\n",
       "      <th>tf</th>\n",
       "    </tr>\n",
       "  </thead>\n",
       "  <tbody>\n",
       "    <tr>\n",
       "      <th>0</th>\n",
       "      <td>forgive</td>\n",
       "      <td>1.0</td>\n",
       "    </tr>\n",
       "    <tr>\n",
       "      <th>1</th>\n",
       "      <td>may</td>\n",
       "      <td>5.0</td>\n",
       "    </tr>\n",
       "    <tr>\n",
       "      <th>2</th>\n",
       "      <td>#earthquake</td>\n",
       "      <td>1.0</td>\n",
       "    </tr>\n",
       "    <tr>\n",
       "      <th>3</th>\n",
       "      <td>reason</td>\n",
       "      <td>9.0</td>\n",
       "    </tr>\n",
       "    <tr>\n",
       "      <th>4</th>\n",
       "      <td>deed</td>\n",
       "      <td>1.0</td>\n",
       "    </tr>\n",
       "    <tr>\n",
       "      <th>...</th>\n",
       "      <td>...</td>\n",
       "      <td>...</td>\n",
       "    </tr>\n",
       "    <tr>\n",
       "      <th>4274</th>\n",
       "      <td>score</td>\n",
       "      <td>1.0</td>\n",
       "    </tr>\n",
       "    <tr>\n",
       "      <th>4275</th>\n",
       "      <td>body's</td>\n",
       "      <td>1.0</td>\n",
       "    </tr>\n",
       "    <tr>\n",
       "      <th>4276</th>\n",
       "      <td>@editaxohaze</td>\n",
       "      <td>1.0</td>\n",
       "    </tr>\n",
       "    <tr>\n",
       "      <th>4277</th>\n",
       "      <td>cuffed</td>\n",
       "      <td>1.0</td>\n",
       "    </tr>\n",
       "    <tr>\n",
       "      <th>4278</th>\n",
       "      <td>bad!!</td>\n",
       "      <td>1.0</td>\n",
       "    </tr>\n",
       "  </tbody>\n",
       "</table>\n",
       "<p>4279 rows × 2 columns</p>\n",
       "</div>"
      ],
      "text/plain": [
       "             words   tf\n",
       "0          forgive  1.0\n",
       "1              may  5.0\n",
       "2      #earthquake  1.0\n",
       "3           reason  9.0\n",
       "4             deed  1.0\n",
       "...            ...  ...\n",
       "4274         score  1.0\n",
       "4275        body's  1.0\n",
       "4276  @editaxohaze  1.0\n",
       "4277        cuffed  1.0\n",
       "4278         bad!!  1.0\n",
       "\n",
       "[4279 rows x 2 columns]"
      ]
     },
     "execution_count": 46,
     "metadata": {},
     "output_type": "execute_result"
    }
   ],
   "source": [
    "freq"
   ]
  },
  {
   "cell_type": "code",
   "execution_count": 18,
   "metadata": {},
   "outputs": [],
   "source": [
    "x=freq.sort_values(by='tf',ascending=False)[2:20]"
   ]
  },
  {
   "cell_type": "code",
   "execution_count": 19,
   "metadata": {},
   "outputs": [
    {
     "data": {
      "text/plain": [
       "<matplotlib.axes._subplots.AxesSubplot at 0x2973b73bc08>"
      ]
     },
     "execution_count": 19,
     "metadata": {},
     "output_type": "execute_result"
    },
    {
     "data": {
      "image/png": "[encoded data removed]",
      "text/plain": [
       "<Figure size 1296x360 with 1 Axes>"
      ]
     },
     "metadata": {
      "needs_background": "light"
     },
     "output_type": "display_data"
    }
   ],
   "source": [
    "plt.figure(figsize=(18,5))\n",
    "sns.barplot(x['words'],x['tf'])"
   ]
  },
  {
   "cell_type": "code",
   "execution_count": 20,
   "metadata": {},
   "outputs": [],
   "source": [
    "import warnings \n",
    "  \n",
    "warnings.filterwarnings(action = 'ignore') \n",
    "  \n",
    "#import gensim \n",
    "#from gensim.models import Word2Vec "
   ]
  },
  {
   "cell_type": "code",
   "execution_count": 117,
   "metadata": {},
   "outputs": [],
   "source": [
    "#from sklearn.cluster import KMeans"
   ]
  },
  {
   "cell_type": "code",
   "execution_count": 52,
   "metadata": {},
   "outputs": [],
   "source": [
    "from nltk.stem import WordNetLemmatizer\n",
    "from nltk.corpus import stopwords\n",
    "from nltk.stem import SnowballStemmer\n",
    "from nltk import word_tokenize\n",
    "from sklearn.feature_extraction.text import TfidfVectorizer\n",
    "from sklearn.pipeline import Pipeline\n",
    "from sklearn.linear_model import SGDClassifier\n",
    "from sklearn.svm import SVC\n",
    "\n",
    "from sklearn.model_selection import GridSearchCV\n",
    "from sklearn.metrics import classification_report, confusion_matrix\n",
    "from sklearn.model_selection import train_test_split"
   ]
  },
  {
   "cell_type": "code",
   "execution_count": 72,
   "metadata": {},
   "outputs": [
    {
     "data": {
      "text/html": [
       "<div>\n",
       "<style scoped>\n",
       "    .dataframe tbody tr th:only-of-type {\n",
       "        vertical-align: middle;\n",
       "    }\n",
       "\n",
       "    .dataframe tbody tr th {\n",
       "        vertical-align: top;\n",
       "    }\n",
       "\n",
       "    .dataframe thead th {\n",
       "        text-align: right;\n",
       "    }\n",
       "</style>\n",
       "<table border=\"1\" class=\"dataframe\">\n",
       "  <thead>\n",
       "    <tr style=\"text-align: right;\">\n",
       "      <th></th>\n",
       "      <th>text</th>\n",
       "    </tr>\n",
       "  </thead>\n",
       "  <tbody>\n",
       "    <tr>\n",
       "      <th>5360</th>\n",
       "      <td>drake spoke rep raptors.beg differ night shot ...</td>\n",
       "    </tr>\n",
       "    <tr>\n",
       "      <th>1500</th>\n",
       "      <td>catastrophic-fallen-angel: reveillertm: macabr...</td>\n",
       "    </tr>\n",
       "    <tr>\n",
       "      <th>5086</th>\n",
       "      <td>though serious #natural #disaster increased #j...</td>\n",
       "    </tr>\n",
       "    <tr>\n",
       "      <th>3212</th>\n",
       "      <td>we're #hiring! click apply: rn ii/emergency se...</td>\n",
       "    </tr>\n",
       "    <tr>\n",
       "      <th>6706</th>\n",
       "      <td>love sound thunder rumbling across mountains.</td>\n",
       "    </tr>\n",
       "    <tr>\n",
       "      <th>...</th>\n",
       "      <td>...</td>\n",
       "    </tr>\n",
       "    <tr>\n",
       "      <th>2522</th>\n",
       "      <td>going redo nail watch behind scene desolation ...</td>\n",
       "    </tr>\n",
       "    <tr>\n",
       "      <th>2373</th>\n",
       "      <td>bbc news - india rail crash: train derail madh...</td>\n",
       "    </tr>\n",
       "    <tr>\n",
       "      <th>305</th>\n",
       "      <td>#pbban (temporary:) russaky @'armageddon | kil...</td>\n",
       "    </tr>\n",
       "    <tr>\n",
       "      <th>1648</th>\n",
       "      <td>petition | heartless owner whipped horse colla...</td>\n",
       "    </tr>\n",
       "    <tr>\n",
       "      <th>7569</th>\n",
       "      <td>@marynmck that's beyond adorable. hope wrecked...</td>\n",
       "    </tr>\n",
       "  </tbody>\n",
       "</table>\n",
       "<p>5709 rows × 1 columns</p>\n",
       "</div>"
      ],
      "text/plain": [
       "                                                   text\n",
       "5360  drake spoke rep raptors.beg differ night shot ...\n",
       "1500  catastrophic-fallen-angel: reveillertm: macabr...\n",
       "5086  though serious #natural #disaster increased #j...\n",
       "3212  we're #hiring! click apply: rn ii/emergency se...\n",
       "6706      love sound thunder rumbling across mountains.\n",
       "...                                                 ...\n",
       "2522  going redo nail watch behind scene desolation ...\n",
       "2373  bbc news - india rail crash: train derail madh...\n",
       "305   #pbban (temporary:) russaky @'armageddon | kil...\n",
       "1648  petition | heartless owner whipped horse colla...\n",
       "7569  @marynmck that's beyond adorable. hope wrecked...\n",
       "\n",
       "[5709 rows x 1 columns]"
      ]
     },
     "execution_count": 72,
     "metadata": {},
     "output_type": "execute_result"
    }
   ],
   "source": [
    "X_train,X_test,y_train,y_test=train_test_split(train['text'],train['target'],stratify=train['target'],random_state=42)\n",
    "pd.DataFrame(X_train)"
   ]
  },
  {
   "cell_type": "code",
   "execution_count": 73,
   "metadata": {},
   "outputs": [],
   "source": [
    "def lemmatize_tokenize(document):\n",
    "    #lem=WordNetLemmatizer()\n",
    "    stemmer = SnowballStemmer(language='english')\n",
    "    token=word_tokenize(document)\n",
    "    return [stemmer.stem(t) for t in token if t.isalpha()\n",
    "                        and t.lower() not in sw]"
   ]
  },
  {
   "cell_type": "code",
   "execution_count": 74,
   "metadata": {},
   "outputs": [],
   "source": [
    "tfidf=TfidfVectorizer(analyzer='word',tokenizer=lemmatize_tokenize)"
   ]
  },
  {
   "cell_type": "code",
   "execution_count": 75,
   "metadata": {},
   "outputs": [],
   "source": [
    "pipeline_sgd=Pipeline(steps=[('tfidf',tfidf),('sgd',SGDClassifier() )])\n",
    "\n",
    "#Workshop params\n",
    "pipeline_params = {\n",
    "    'sgd__loss': ['hinge', 'log'],\n",
    "    'sgd__penalty': ['l1', 'l2', 'elasticnet'],\n",
    "    'sgd__alpha': [.0001, .0005, .001]    \n",
    "}\n",
    "# Apparently my params don't work... maybe its the way the keys are spelled\n",
    "#pipeline_params={\n",
    "#    'sgd_loss': ['hinge','log'],\n",
    "#    'sgd_penalty': ['l2','l1','elasticnet'],\n",
    "#    'sgd_alpha': [0.0001,0.0005,0.001]\n",
    "#    \n",
    "#}"
   ]
  },
  {
   "cell_type": "code",
   "execution_count": 77,
   "metadata": {},
   "outputs": [],
   "source": [
    "def fit_cross_validate_model(algo,params,X_train,X_test,y_train,y_test):\n",
    "    gs=GridSearchCV(algo,params,scoring=['precision_macro','recall_macro','accuracy'],refit='precision_macro',n_jobs=4,verbose=10)\n",
    "    gs.fit(X_train,y_train)\n",
    "    print('best params: ',gs.best_params_)\n",
    "    print('score on test set: ',gs.score(X_test,y_test))\n",
    "    return( gs , gs.predict(X_test) )"
   ]
  },
  {
   "cell_type": "code",
   "execution_count": 78,
   "metadata": {},
   "outputs": [
    {
     "name": "stdout",
     "output_type": "stream",
     "text": [
      "Fitting 5 folds for each of 18 candidates, totalling 90 fits\n"
     ]
    },
    {
     "name": "stderr",
     "output_type": "stream",
     "text": [
      "[Parallel(n_jobs=4)]: Using backend LokyBackend with 4 concurrent workers.\n",
      "[Parallel(n_jobs=4)]: Done   5 tasks      | elapsed:    8.6s\n",
      "[Parallel(n_jobs=4)]: Done  10 tasks      | elapsed:   12.5s\n",
      "[Parallel(n_jobs=4)]: Done  17 tasks      | elapsed:   20.8s\n",
      "[Parallel(n_jobs=4)]: Done  24 tasks      | elapsed:   25.0s\n",
      "[Parallel(n_jobs=4)]: Done  33 tasks      | elapsed:   36.9s\n",
      "[Parallel(n_jobs=4)]: Done  42 tasks      | elapsed:   44.4s\n",
      "[Parallel(n_jobs=4)]: Done  53 tasks      | elapsed:   56.1s\n",
      "[Parallel(n_jobs=4)]: Done  64 tasks      | elapsed:  1.1min\n",
      "[Parallel(n_jobs=4)]: Done  77 tasks      | elapsed:  1.4min\n",
      "[Parallel(n_jobs=4)]: Done  90 out of  90 | elapsed:  1.6min finished\n"
     ]
    },
    {
     "name": "stdout",
     "output_type": "stream",
     "text": [
      "best params:  {'sgd__alpha': 0.001, 'sgd__loss': 'hinge', 'sgd__penalty': 'l2'}\n",
      "score on test set:  0.8203968253968255\n"
     ]
    }
   ],
   "source": [
    "gs_sgd , pred_sgd  =fit_cross_validate_model(pipeline_sgd,pipeline_params,X_train,X_test,y_train,y_test)"
   ]
  },
  {
   "cell_type": "code",
   "execution_count": 80,
   "metadata": {},
   "outputs": [
    {
     "name": "stdout",
     "output_type": "stream",
     "text": [
      "              precision    recall  f1-score   support\n",
      "\n",
      "           0       0.74      0.95      0.83      1086\n",
      "           1       0.90      0.56      0.69       818\n",
      "\n",
      "    accuracy                           0.78      1904\n",
      "   macro avg       0.82      0.75      0.76      1904\n",
      "weighted avg       0.81      0.78      0.77      1904\n",
      "\n"
     ]
    }
   ],
   "source": [
    "print(classification_report(y_test,pred_sgd))"
   ]
  },
  {
   "cell_type": "code",
   "execution_count": null,
   "metadata": {},
   "outputs": [],
   "source": []
  }
 ],
 "metadata": {
  "kernelspec": {
   "display_name": "Python 3",
   "language": "python",
   "name": "python3"
  },
  "language_info": {
   "codemirror_mode": {
    "name": "ipython",
    "version": 3
   },
   "file_extension": ".py",
   "mimetype": "text/x-python",
   "name": "python",
   "nbconvert_exporter": "python",
   "pygments_lexer": "ipython3",
   "version": "3.7.7"
  }
 },
 "nbformat": 4,
 "nbformat_minor": 4
}
