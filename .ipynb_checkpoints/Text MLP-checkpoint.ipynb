{
 "cells": [
  {
   "cell_type": "code",
   "execution_count": 1,
   "metadata": {},
   "outputs": [],
   "source": [
    "import pandas as pd\n",
    "import numpy as np\n",
    "import seaborn as sns\n",
    "import matplotlib.pyplot as plt"
   ]
  },
  {
   "cell_type": "code",
   "execution_count": 2,
   "metadata": {},
   "outputs": [],
   "source": [
    "train=pd.read_csv(\"train.csv\")\n",
    "test=pd.read_csv(\"test.csv\")"
   ]
  },
  {
   "cell_type": "code",
   "execution_count": 3,
   "metadata": {},
   "outputs": [
    {
     "data": {
      "text/plain": [
       "id             0\n",
       "keyword       61\n",
       "location    2533\n",
       "text           0\n",
       "target         0\n",
       "dtype: int64"
      ]
     },
     "execution_count": 3,
     "metadata": {},
     "output_type": "execute_result"
    }
   ],
   "source": [
    "train.isna().sum()"
   ]
  },
  {
   "cell_type": "code",
   "execution_count": 4,
   "metadata": {},
   "outputs": [],
   "source": [
    "data=pd.concat([train,test])\n",
    "data.reset_index(inplace=True,drop=True)\n",
    "data.drop('id',axis=1,inplace=True)"
   ]
  },
  {
   "cell_type": "code",
   "execution_count": 5,
   "metadata": {},
   "outputs": [],
   "source": [
    "#80% of keyword data is missing.. better to drop that feature\n",
    "data.isna().sum()/len(data)*100\n",
    "data.drop(['keyword','location'],axis=1,inplace=True)"
   ]
  },
  {
   "cell_type": "code",
   "execution_count": 6,
   "metadata": {},
   "outputs": [],
   "source": [
    "from nltk.stem import WordNetLemmatizer\n",
    "from nltk.corpus import stopwords\n",
    "from nltk.stem import SnowballStemmer\n",
    "from nltk import word_tokenize\n",
    "from sklearn.feature_extraction.text import TfidfVectorizer"
   ]
  },
  {
   "cell_type": "code",
   "execution_count": 7,
   "metadata": {},
   "outputs": [],
   "source": [
    "# More data cleaning in general\n",
    "data['text']=data['text'].str.replace('\\d', '')\n",
    "data[\"text\"] = data[\"text\"].str.replace('http[s]?://(?:[a-zA-Z]|[0-9]|[$-_@.&+]|[!*\\(\\),]|(?:%[0-9a-fA-F][0-9a-fA-F]))+',\"\")\n",
    "data[\"text\"] = data[\"text\"].str.replace(r\"We're\", \"We are\")\n",
    "data[\"text\"] = data[\"text\"].str.replace(r\"That's\", \"That is\")\n",
    "data[\"text\"] = data[\"text\"].str.replace(r\"won't\", \"will not\")\n",
    "data[\"text\"] = data[\"text\"].str.replace(r\"they're\", \"they are\")\n",
    "data[\"text\"] = data[\"text\"].str.replace(r\"Can't\", \"Cannot\")\n",
    "data[\"text\"] = data[\"text\"].str.replace(r\"wasn't\", \"was not\")\n",
    "data[\"text\"] = data[\"text\"].str.replace(r\"don\\x89Ûªt\", \"do not\")\n",
    "data[\"text\"] = data[\"text\"].str.replace(r\"aren't\", \"are not\")\n",
    "data[\"text\"] = data[\"text\"].str.replace(r\"isn't\", \"is not\")\n",
    "data[\"text\"] = data[\"text\"].str.replace(r\"You're\", \"You are\")\n",
    "data[\"text\"] = data[\"text\"].str.replace(r\"I'M\", \"I am\")\n",
    "data[\"text\"] = data[\"text\"].str.replace(r\"shouldn't\", \"should not\")\n",
    "data[\"text\"] = data[\"text\"].str.replace(r\"wouldn't\", \"would not\")\n",
    "data[\"text\"] = data[\"text\"].str.replace(r\"i'm\", \"I am\")\n",
    "data[\"text\"] = data[\"text\"].str.replace(r\"We've\", \"We have\")\n",
    "data[\"text\"] = data[\"text\"].str.replace(r\"Didn't\", \"Did not\")\n",
    "data[\"text\"] = data[\"text\"].str.replace(r\"it's\", \"it is\")\n",
    "data[\"text\"] = data[\"text\"].str.replace(r\"can't\", \"cannot\")\n",
    "data[\"text\"] = data[\"text\"].str.replace(r\"don't\", \"do not\")\n",
    "data[\"text\"] = data[\"text\"].str.replace(r\"you're\", \"you are\")\n",
    "data[\"text\"] = data[\"text\"].str.replace(r\"I've\", \"I have\")\n",
    "data[\"text\"] = data[\"text\"].str.replace(r\"Don't\", \"do not\")\n",
    "data[\"text\"] = data[\"text\"].str.replace(r\"I'll\", \"I will\")\n",
    "data[\"text\"] = data[\"text\"].str.replace(r\"Let's\", \"Let us\")\n",
    "data[\"text\"] = data[\"text\"].str.replace(r\"Could've\", \"Could have\")\n",
    "data[\"text\"] = data[\"text\"].str.replace(r\"youve\", \"you have\")\n",
    "data[\"text\"] = data[\"text\"].str.replace(r\"It's\", \"It is\")"
   ]
  },
  {
   "cell_type": "code",
   "execution_count": 8,
   "metadata": {},
   "outputs": [
    {
     "data": {
      "text/plain": [
       "0        Our Deeds are the Reason of this #earthquake M...\n",
       "1                   Forest fire near La Ronge Sask. Canada\n",
       "2        All residents asked to 'shelter in place' are ...\n",
       "3        , people receive #wildfires evacuation orders ...\n",
       "4        Just got sent this photo from Ruby #Alaska as ...\n",
       "                               ...                        \n",
       "10871    EARTHQUAKE SAFETY LOS ANGELES ÛÒ SAFETY FASTE...\n",
       "10872    Storm in RI worse than last hurricane. My city...\n",
       "10873                    Green Line derailment in Chicago \n",
       "10874          MEG issues Hazardous Weather Outlook (HWO) \n",
       "10875    #CityofCalgary has activated its Municipal Eme...\n",
       "Name: text, Length: 10876, dtype: object"
      ]
     },
     "execution_count": 8,
     "metadata": {},
     "output_type": "execute_result"
    }
   ],
   "source": [
    "data['text']"
   ]
  },
  {
   "cell_type": "code",
   "execution_count": 9,
   "metadata": {},
   "outputs": [],
   "source": [
    "lemmatizer=WordNetLemmatizer()\n",
    "sw=stopwords.words(\"english\")\n",
    "sw.append(\"u\")\n",
    "sw.append(\"im\")\n",
    "#Don't forget word_tokenize() and lower()"
   ]
  },
  {
   "cell_type": "code",
   "execution_count": 10,
   "metadata": {},
   "outputs": [],
   "source": [
    "data['tweet_length']=data['text'].apply(lambda x: len([(w) for w in str(x).split()]))"
   ]
  },
  {
   "cell_type": "code",
   "execution_count": 11,
   "metadata": {},
   "outputs": [],
   "source": [
    "data['unique_length']=data['text'].apply(lambda x: len([(w) for w in set(str(x).split() ) ]))"
   ]
  },
  {
   "cell_type": "code",
   "execution_count": 15,
   "metadata": {},
   "outputs": [
    {
     "data": {
      "text/html": [
       "<div>\n",
       "<style scoped>\n",
       "    .dataframe tbody tr th:only-of-type {\n",
       "        vertical-align: middle;\n",
       "    }\n",
       "\n",
       "    .dataframe tbody tr th {\n",
       "        vertical-align: top;\n",
       "    }\n",
       "\n",
       "    .dataframe thead th {\n",
       "        text-align: right;\n",
       "    }\n",
       "</style>\n",
       "<table border=\"1\" class=\"dataframe\">\n",
       "  <thead>\n",
       "    <tr style=\"text-align: right;\">\n",
       "      <th></th>\n",
       "      <th>text</th>\n",
       "      <th>target</th>\n",
       "      <th>tweet_length</th>\n",
       "      <th>unique_length</th>\n",
       "    </tr>\n",
       "  </thead>\n",
       "  <tbody>\n",
       "    <tr>\n",
       "      <th>0</th>\n",
       "      <td>our deeds are the reason of this #earthquake m...</td>\n",
       "      <td>1.0</td>\n",
       "      <td>13</td>\n",
       "      <td>13</td>\n",
       "    </tr>\n",
       "    <tr>\n",
       "      <th>1</th>\n",
       "      <td>forest fire near la ronge sask. canada</td>\n",
       "      <td>1.0</td>\n",
       "      <td>7</td>\n",
       "      <td>7</td>\n",
       "    </tr>\n",
       "    <tr>\n",
       "      <th>2</th>\n",
       "      <td>all residents asked to 'shelter in place' are ...</td>\n",
       "      <td>1.0</td>\n",
       "      <td>22</td>\n",
       "      <td>20</td>\n",
       "    </tr>\n",
       "    <tr>\n",
       "      <th>3</th>\n",
       "      <td>, people receive #wildfires evacuation orders ...</td>\n",
       "      <td>1.0</td>\n",
       "      <td>8</td>\n",
       "      <td>8</td>\n",
       "    </tr>\n",
       "    <tr>\n",
       "      <th>4</th>\n",
       "      <td>just got sent this photo from ruby #alaska as ...</td>\n",
       "      <td>1.0</td>\n",
       "      <td>16</td>\n",
       "      <td>15</td>\n",
       "    </tr>\n",
       "    <tr>\n",
       "      <th>...</th>\n",
       "      <td>...</td>\n",
       "      <td>...</td>\n",
       "      <td>...</td>\n",
       "      <td>...</td>\n",
       "    </tr>\n",
       "    <tr>\n",
       "      <th>10871</th>\n",
       "      <td>earthquake safety los angeles ûò safety faste...</td>\n",
       "      <td>NaN</td>\n",
       "      <td>8</td>\n",
       "      <td>7</td>\n",
       "    </tr>\n",
       "    <tr>\n",
       "      <th>10872</th>\n",
       "      <td>storm in ri worse than last hurricane. my city...</td>\n",
       "      <td>NaN</td>\n",
       "      <td>23</td>\n",
       "      <td>22</td>\n",
       "    </tr>\n",
       "    <tr>\n",
       "      <th>10873</th>\n",
       "      <td>green line derailment in chicago</td>\n",
       "      <td>NaN</td>\n",
       "      <td>5</td>\n",
       "      <td>5</td>\n",
       "    </tr>\n",
       "    <tr>\n",
       "      <th>10874</th>\n",
       "      <td>meg issues hazardous weather outlook (hwo)</td>\n",
       "      <td>NaN</td>\n",
       "      <td>6</td>\n",
       "      <td>6</td>\n",
       "    </tr>\n",
       "    <tr>\n",
       "      <th>10875</th>\n",
       "      <td>#cityofcalgary has activated its municipal eme...</td>\n",
       "      <td>NaN</td>\n",
       "      <td>8</td>\n",
       "      <td>8</td>\n",
       "    </tr>\n",
       "  </tbody>\n",
       "</table>\n",
       "<p>10876 rows × 4 columns</p>\n",
       "</div>"
      ],
      "text/plain": [
       "                                                    text  target  \\\n",
       "0      our deeds are the reason of this #earthquake m...     1.0   \n",
       "1                 forest fire near la ronge sask. canada     1.0   \n",
       "2      all residents asked to 'shelter in place' are ...     1.0   \n",
       "3      , people receive #wildfires evacuation orders ...     1.0   \n",
       "4      just got sent this photo from ruby #alaska as ...     1.0   \n",
       "...                                                  ...     ...   \n",
       "10871  earthquake safety los angeles ûò safety faste...     NaN   \n",
       "10872  storm in ri worse than last hurricane. my city...     NaN   \n",
       "10873                   green line derailment in chicago     NaN   \n",
       "10874         meg issues hazardous weather outlook (hwo)     NaN   \n",
       "10875  #cityofcalgary has activated its municipal eme...     NaN   \n",
       "\n",
       "       tweet_length  unique_length  \n",
       "0                13             13  \n",
       "1                 7              7  \n",
       "2                22             20  \n",
       "3                 8              8  \n",
       "4                16             15  \n",
       "...             ...            ...  \n",
       "10871             8              7  \n",
       "10872            23             22  \n",
       "10873             5              5  \n",
       "10874             6              6  \n",
       "10875             8              8  \n",
       "\n",
       "[10876 rows x 4 columns]"
      ]
     },
     "execution_count": 15,
     "metadata": {},
     "output_type": "execute_result"
    }
   ],
   "source": [
    "data"
   ]
  },
  {
   "cell_type": "code",
   "execution_count": 13,
   "metadata": {},
   "outputs": [],
   "source": [
    "def lemmatize_tokenize(document):\n",
    "    #lem=WordNetLemmatizer()\n",
    "    stemmer = SnowballStemmer(language='english')\n",
    "    token=word_tokenize(document)\n",
    "    return [stemmer.stem(t) for t in token if t.isalpha()\n",
    "                        and t.lower() not in sw]"
   ]
  },
  {
   "cell_type": "code",
   "execution_count": 14,
   "metadata": {},
   "outputs": [],
   "source": [
    "#Lowercase, lemmatize, tokenize, vectorize (+ remove stopwords,ngrams, even lowercase here) Does vectorization already tokenzie for you?\n",
    "data['text']=data['text'].apply(lambda x: \" \".join(x.lower() for x in x.split()))\n",
    "\n",
    "#data['text_lem']=[lemmatizer.lemmatize(x) for x in data['text']]"
   ]
  },
  {
   "cell_type": "code",
   "execution_count": 16,
   "metadata": {},
   "outputs": [],
   "source": [
    "text_lem=[]\n",
    "y=0\n",
    "for x in data['text']:\n",
    "    new_row=[lemmatizer.lemmatize(y) for y in x.split()]\n",
    "    new_row=' '.join(new_row)\n",
    "    data.loc[y,'text']=new_row\n",
    "    y+=1\n",
    "    #print(new_row)"
   ]
  },
  {
   "cell_type": "code",
   "execution_count": 17,
   "metadata": {},
   "outputs": [
    {
     "data": {
      "text/html": [
       "<div>\n",
       "<style scoped>\n",
       "    .dataframe tbody tr th:only-of-type {\n",
       "        vertical-align: middle;\n",
       "    }\n",
       "\n",
       "    .dataframe tbody tr th {\n",
       "        vertical-align: top;\n",
       "    }\n",
       "\n",
       "    .dataframe thead th {\n",
       "        text-align: right;\n",
       "    }\n",
       "</style>\n",
       "<table border=\"1\" class=\"dataframe\">\n",
       "  <thead>\n",
       "    <tr style=\"text-align: right;\">\n",
       "      <th></th>\n",
       "      <th>text</th>\n",
       "      <th>target</th>\n",
       "      <th>tweet_length</th>\n",
       "      <th>unique_length</th>\n",
       "    </tr>\n",
       "  </thead>\n",
       "  <tbody>\n",
       "    <tr>\n",
       "      <th>0</th>\n",
       "      <td>our deed are the reason of this #earthquake ma...</td>\n",
       "      <td>1.0</td>\n",
       "      <td>13</td>\n",
       "      <td>13</td>\n",
       "    </tr>\n",
       "    <tr>\n",
       "      <th>1</th>\n",
       "      <td>forest fire near la ronge sask. canada</td>\n",
       "      <td>1.0</td>\n",
       "      <td>7</td>\n",
       "      <td>7</td>\n",
       "    </tr>\n",
       "    <tr>\n",
       "      <th>2</th>\n",
       "      <td>all resident asked to 'shelter in place' are b...</td>\n",
       "      <td>1.0</td>\n",
       "      <td>22</td>\n",
       "      <td>20</td>\n",
       "    </tr>\n",
       "    <tr>\n",
       "      <th>3</th>\n",
       "      <td>, people receive #wildfires evacuation order i...</td>\n",
       "      <td>1.0</td>\n",
       "      <td>8</td>\n",
       "      <td>8</td>\n",
       "    </tr>\n",
       "    <tr>\n",
       "      <th>4</th>\n",
       "      <td>just got sent this photo from ruby #alaska a s...</td>\n",
       "      <td>1.0</td>\n",
       "      <td>16</td>\n",
       "      <td>15</td>\n",
       "    </tr>\n",
       "    <tr>\n",
       "      <th>...</th>\n",
       "      <td>...</td>\n",
       "      <td>...</td>\n",
       "      <td>...</td>\n",
       "      <td>...</td>\n",
       "    </tr>\n",
       "    <tr>\n",
       "      <th>10871</th>\n",
       "      <td>earthquake safety los angeles ûò safety faste...</td>\n",
       "      <td>NaN</td>\n",
       "      <td>8</td>\n",
       "      <td>7</td>\n",
       "    </tr>\n",
       "    <tr>\n",
       "      <th>10872</th>\n",
       "      <td>storm in ri worse than last hurricane. my city...</td>\n",
       "      <td>NaN</td>\n",
       "      <td>23</td>\n",
       "      <td>22</td>\n",
       "    </tr>\n",
       "    <tr>\n",
       "      <th>10873</th>\n",
       "      <td>green line derailment in chicago</td>\n",
       "      <td>NaN</td>\n",
       "      <td>5</td>\n",
       "      <td>5</td>\n",
       "    </tr>\n",
       "    <tr>\n",
       "      <th>10874</th>\n",
       "      <td>meg issue hazardous weather outlook (hwo)</td>\n",
       "      <td>NaN</td>\n",
       "      <td>6</td>\n",
       "      <td>6</td>\n",
       "    </tr>\n",
       "    <tr>\n",
       "      <th>10875</th>\n",
       "      <td>#cityofcalgary ha activated it municipal emerg...</td>\n",
       "      <td>NaN</td>\n",
       "      <td>8</td>\n",
       "      <td>8</td>\n",
       "    </tr>\n",
       "  </tbody>\n",
       "</table>\n",
       "<p>10876 rows × 4 columns</p>\n",
       "</div>"
      ],
      "text/plain": [
       "                                                    text  target  \\\n",
       "0      our deed are the reason of this #earthquake ma...     1.0   \n",
       "1                 forest fire near la ronge sask. canada     1.0   \n",
       "2      all resident asked to 'shelter in place' are b...     1.0   \n",
       "3      , people receive #wildfires evacuation order i...     1.0   \n",
       "4      just got sent this photo from ruby #alaska a s...     1.0   \n",
       "...                                                  ...     ...   \n",
       "10871  earthquake safety los angeles ûò safety faste...     NaN   \n",
       "10872  storm in ri worse than last hurricane. my city...     NaN   \n",
       "10873                   green line derailment in chicago     NaN   \n",
       "10874          meg issue hazardous weather outlook (hwo)     NaN   \n",
       "10875  #cityofcalgary ha activated it municipal emerg...     NaN   \n",
       "\n",
       "       tweet_length  unique_length  \n",
       "0                13             13  \n",
       "1                 7              7  \n",
       "2                22             20  \n",
       "3                 8              8  \n",
       "4                16             15  \n",
       "...             ...            ...  \n",
       "10871             8              7  \n",
       "10872            23             22  \n",
       "10873             5              5  \n",
       "10874             6              6  \n",
       "10875             8              8  \n",
       "\n",
       "[10876 rows x 4 columns]"
      ]
     },
     "execution_count": 17,
     "metadata": {},
     "output_type": "execute_result"
    }
   ],
   "source": [
    "data"
   ]
  },
  {
   "cell_type": "code",
   "execution_count": 18,
   "metadata": {},
   "outputs": [],
   "source": [
    "tfidf=TfidfVectorizer(ngram_range=(1,3),stop_words=sw)"
   ]
  },
  {
   "cell_type": "code",
   "execution_count": 19,
   "metadata": {},
   "outputs": [],
   "source": [
    "X=tfidf.fit_transform(data['text'])"
   ]
  },
  {
   "cell_type": "code",
   "execution_count": 20,
   "metadata": {},
   "outputs": [],
   "source": [
    "from sklearn.decomposition import TruncatedSVD\n",
    "pca=TruncatedSVD(n_components=2)\n",
    "X_pca=pca.fit_transform(X)"
   ]
  },
  {
   "cell_type": "code",
   "execution_count": 21,
   "metadata": {},
   "outputs": [
    {
     "name": "stdout",
     "output_type": "stream",
     "text": [
      "2D feature reduction explains variance of 0.601 %\n"
     ]
    },
    {
     "data": {
      "image/png": "[encoded data removed]",
      "text/plain": [
       "<Figure size 432x288 with 1 Axes>"
      ]
     },
     "metadata": {
      "needs_background": "light"
     },
     "output_type": "display_data"
    }
   ],
   "source": [
    "sns.scatterplot(X_pca[:,0],X_pca[:,1])\n",
    "print(f\"2D feature reduction explains variance of {round(sum(pca.explained_variance_ratio_)*100,3)} %\")"
   ]
  },
  {
   "cell_type": "code",
   "execution_count": 22,
   "metadata": {},
   "outputs": [
    {
     "data": {
      "image/png": "[encoded data removed]",
      "text/plain": [
       "<Figure size 936x360 with 2 Axes>"
      ]
     },
     "metadata": {
      "needs_background": "light"
     },
     "output_type": "display_data"
    },
    {
     "data": {
      "image/png": "[encoded data removed]",
      "text/plain": [
       "<Figure size 936x360 with 2 Axes>"
      ]
     },
     "metadata": {
      "needs_background": "light"
     },
     "output_type": "display_data"
    },
    {
     "data": {
      "image/png": "[encoded data removed]",
      "text/plain": [
       "<Figure size 936x360 with 2 Axes>"
      ]
     },
     "metadata": {
      "needs_background": "light"
     },
     "output_type": "display_data"
    },
    {
     "data": {
      "image/png": "[encoded data removed]",
      "text/plain": [
       "<Figure size 936x360 with 2 Axes>"
      ]
     },
     "metadata": {
      "needs_background": "light"
     },
     "output_type": "display_data"
    },
    {
     "data": {
      "image/png": "[encoded data removed]",
      "text/plain": [
       "<Figure size 936x360 with 2 Axes>"
      ]
     },
     "metadata": {
      "needs_background": "light"
     },
     "output_type": "display_data"
    },
    {
     "data": {
      "image/png": "[encoded data removed]",
      "text/plain": [
       "<Figure size 936x360 with 2 Axes>"
      ]
     },
     "metadata": {
      "needs_background": "light"
     },
     "output_type": "display_data"
    },
    {
     "data": {
      "image/png": "[encoded data removed]",
      "text/plain": [
       "<Figure size 936x360 with 2 Axes>"
      ]
     },
     "metadata": {
      "needs_background": "light"
     },
     "output_type": "display_data"
    },
    {
     "data": {
      "image/png": "[encoded data removed]",
      "text/plain": [
       "<Figure size 936x360 with 2 Axes>"
      ]
     },
     "metadata": {
      "needs_background": "light"
     },
     "output_type": "display_data"
    }
   ],
   "source": [
    "from sklearn.cluster import KMeans#, AgglomerativeClustering\n",
    "from sklearn.metrics import silhouette_score\n",
    "\n",
    "for x in range(2,10):\n",
    "    pca=TruncatedSVD(n_components=x)\n",
    "    X_pca=pca.fit_transform(X)\n",
    "    kmeans_df=pd.DataFrame(columns=['inertia','silhouette'],index=range(2,10))\n",
    "    \n",
    "    for k in kmeans_df.index:\n",
    "        km=KMeans(n_clusters=k)\n",
    "        km.fit(X_pca)\n",
    "        kmeans_df.loc[k,'inertia']=km.inertia_\n",
    "        kmeans_df.loc[k,'silhouette']=silhouette_score(X_pca,km.predict(X_pca))\n",
    "\n",
    "    plt.figure(figsize=(13,5))\n",
    "    plt.subplot(1,2,1)\n",
    "    plt.plot(kmeans_df[\"inertia\"]),plt.title(\"KMeans inertia\")\n",
    "    plt.subplot(1,2,2)\n",
    "    plt.plot(kmeans_df[\"silhouette\"]),plt.title(\"KMeans silhuoette\")"
   ]
  },
  {
   "cell_type": "code",
   "execution_count": 23,
   "metadata": {},
   "outputs": [],
   "source": [
    "#Continue Kmeans clustering with 3 clusters?\n",
    "\n",
    "pca=TruncatedSVD(n_components=2)\n",
    "km=KMeans(n_clusters=4)\n",
    "X_pca=pca.fit_transform(X)\n",
    "km.fit(X_pca)\n",
    "mask=km.predict(X_pca)"
   ]
  },
  {
   "cell_type": "code",
   "execution_count": 24,
   "metadata": {},
   "outputs": [
    {
     "data": {
      "image/png": "[encoded data removed]",
      "text/plain": [
       "<Figure size 504x504 with 1 Axes>"
      ]
     },
     "metadata": {
      "needs_background": "light"
     },
     "output_type": "display_data"
    }
   ],
   "source": [
    "plt.figure(figsize=(7,7))\n",
    "for i in range(km.n_clusters):\n",
    "    sns.scatterplot(x=X_pca[mask==i,0],y=X_pca[mask==i,1])"
   ]
  },
  {
   "cell_type": "code",
   "execution_count": 25,
   "metadata": {},
   "outputs": [],
   "source": [
    "freq=train['text'][0:1000].apply(lambda x: pd.value_counts(x.split(\" \"))).sum(axis=0).reset_index()"
   ]
  },
  {
   "cell_type": "code",
   "execution_count": 87,
   "metadata": {},
   "outputs": [],
   "source": [
    "import scipy.sparse\n",
    "data_tweet_length=pd.DataFrame(pd.arrays.SparseArray(data['tweet_length'].values))\n",
    "data_unique_length=pd.DataFrame(pd.arrays.SparseArray(data['unique_length'].values))"
   ]
  },
  {
   "cell_type": "code",
   "execution_count": 89,
   "metadata": {},
   "outputs": [],
   "source": [
    "X=hstack([X,data_tweet_length,data_unique_length],format='csr')\n",
    "#data['tweet_length'].values.reshape(1,-1)"
   ]
  },
  {
   "cell_type": "code",
   "execution_count": 90,
   "metadata": {},
   "outputs": [],
   "source": [
    "ntrain=len(train)\n",
    "X_training_data=X[:ntrain]\n",
    "X_testing_data=X[ntrain:]\n",
    "y_training_data=data['target'][:ntrain]"
   ]
  },
  {
   "cell_type": "code",
   "execution_count": null,
   "metadata": {},
   "outputs": [],
   "source": []
  },
  {
   "cell_type": "code",
   "execution_count": 91,
   "metadata": {},
   "outputs": [],
   "source": [
    "from sklearn.model_selection import train_test_split, cross_validate,RandomizedSearchCV\n",
    "from sklearn.linear_model import SGDClassifier\n",
    "from sklearn.metrics import classification_report, confusion_matrix, plot_confusion_matrix,f1_score\n",
    "X_train,X_test,y_train,y_test=train_test_split(X_training_data,y_training_data,stratify=y_training_data,random_state=42)"
   ]
  },
  {
   "cell_type": "code",
   "execution_count": 92,
   "metadata": {},
   "outputs": [
    {
     "name": "stdout",
     "output_type": "stream",
     "text": [
      "Feature reduction to 2 dimensions gives a training f1 score of 0.3708\n",
      "Feature reduction to 3 dimensions gives a training f1 score of 0.343\n",
      "Feature reduction to 4 dimensions gives a training f1 score of 0.3675\n",
      "Feature reduction to 5 dimensions gives a training f1 score of 0.3087\n",
      "Feature reduction to 6 dimensions gives a training f1 score of 0.326\n",
      "Feature reduction to 7 dimensions gives a training f1 score of 0.4194\n",
      "Feature reduction to 8 dimensions gives a training f1 score of 0.3704\n",
      "Feature reduction to 9 dimensions gives a training f1 score of 0.3199\n"
     ]
    }
   ],
   "source": [
    "#5 dimensions seem to work for now\n",
    "for n in range(2,10):\n",
    "    lr=SGDClassifier(loss='log')\n",
    "    pca=TruncatedSVD(n_components=3)\n",
    "    X_train_pca=pca.fit_transform(X_train)\n",
    "    X_test_pca=pca.transform(X_test)\n",
    "    lr.fit(X_train_pca,y_train)\n",
    "    training_score=cross_validate(lr,X_train_pca,y_train,scoring='f1_weighted',cv=3)['test_score'].mean()\n",
    "    print(f'Feature reduction to {n} dimensions gives a training f1 score of {round(training_score,4)}') "
   ]
  },
  {
   "cell_type": "code",
   "execution_count": 134,
   "metadata": {},
   "outputs": [],
   "source": [
    "from sklearn.svm import SVC\n",
    "from sklearn.neighbors import KNeighborsClassifier\n",
    "from sklearn.tree import DecisionTreeClassifier\n",
    "from sklearn.ensemble import RandomForestClassifier,VotingClassifier\n",
    "import lightgbm as lgb\n",
    "import time\n",
    "\n",
    "pca=TruncatedSVD(n_components=7)\n",
    "X_train_pca=pca.fit_transform(X_train)\n",
    "X_test_pca=pca.transform(X_test)\n",
    "\n",
    "lr=SGDClassifier(loss='hinge')\n",
    "svc=SVC(probability=True)\n",
    "knn=KNeighborsClassifier()\n",
    "dtr=DecisionTreeClassifier()\n",
    "rfc=RandomForestClassifier()\n",
    "\n",
    "models={\"Logistic regression\":lr,\"Support vector classifier\": svc,\"K neighbours classifier\":knn, \\\n",
    "       \"Decision tree classifier\": dtr, \"Random forest classifier\": rfc}"
   ]
  },
  {
   "cell_type": "code",
   "execution_count": 135,
   "metadata": {},
   "outputs": [
    {
     "name": "stdout",
     "output_type": "stream",
     "text": [
      "0.13717865943908691\n",
      "10.416641473770142\n",
      "10.624455451965332\n",
      "10.77427864074707\n",
      "13.946897268295288\n"
     ]
    },
    {
     "data": {
      "text/html": [
       "<div>\n",
       "<style scoped>\n",
       "    .dataframe tbody tr th:only-of-type {\n",
       "        vertical-align: middle;\n",
       "    }\n",
       "\n",
       "    .dataframe tbody tr th {\n",
       "        vertical-align: top;\n",
       "    }\n",
       "\n",
       "    .dataframe thead tr th {\n",
       "        text-align: left;\n",
       "    }\n",
       "</style>\n",
       "<table border=\"1\" class=\"dataframe\">\n",
       "  <thead>\n",
       "    <tr>\n",
       "      <th></th>\n",
       "      <th>training score</th>\n",
       "      <th>testing score</th>\n",
       "    </tr>\n",
       "  </thead>\n",
       "  <tbody>\n",
       "    <tr>\n",
       "      <th>Logistic regression</th>\n",
       "      <td>0.418139</td>\n",
       "      <td>0.482593</td>\n",
       "    </tr>\n",
       "    <tr>\n",
       "      <th>Support vector classifier</th>\n",
       "      <td>0.414275</td>\n",
       "      <td>0.414335</td>\n",
       "    </tr>\n",
       "    <tr>\n",
       "      <th>K neighbours classifier</th>\n",
       "      <td>0.628342</td>\n",
       "      <td>0.637858</td>\n",
       "    </tr>\n",
       "    <tr>\n",
       "      <th>Decision tree classifier</th>\n",
       "      <td>0.626892</td>\n",
       "      <td>0.631268</td>\n",
       "    </tr>\n",
       "    <tr>\n",
       "      <th>Random forest classifier</th>\n",
       "      <td>0.691836</td>\n",
       "      <td>0.694086</td>\n",
       "    </tr>\n",
       "  </tbody>\n",
       "</table>\n",
       "</div>"
      ],
      "text/plain": [
       "                          training score testing score\n",
       "Logistic regression             0.418139      0.482593\n",
       "Support vector classifier       0.414275      0.414335\n",
       "K neighbours classifier         0.628342      0.637858\n",
       "Decision tree classifier        0.626892      0.631268\n",
       "Random forest classifier        0.691836      0.694086"
      ]
     },
     "execution_count": 135,
     "metadata": {},
     "output_type": "execute_result"
    }
   ],
   "source": [
    "#Untuned model predictions and score\n",
    "#This implies the data is non-linear (duh it's freaking text). Props to K nieghbours & RFC.\n",
    "base_model_scores=pd.DataFrame(index=models.keys(),columns=[[\"training score\",\"testing score\"]])\n",
    "t0=time.time()\n",
    "for key,model in models.items():\n",
    "    model.fit(X_train_pca,y_train)\n",
    "    train_score=cross_validate(model,X_train_pca,y_train,scoring='f1_weighted',cv=3)['test_score'].mean()\n",
    "    pred=model.predict(X_test_pca)\n",
    "    f1=f1_score(y_test,pred,average='weighted')\n",
    "    base_model_scores.loc[key,\"training score\"]=train_score.mean()\n",
    "    base_model_scores.loc[key,\"testing score\"]=f1\n",
    "    print(time.time()-t0)\n",
    "base_model_scores"
   ]
  },
  {
   "cell_type": "code",
   "execution_count": 104,
   "metadata": {},
   "outputs": [
    {
     "data": {
      "text/plain": [
       "<sklearn.metrics._plot.confusion_matrix.ConfusionMatrixDisplay at 0x1d27110ae88>"
      ]
     },
     "execution_count": 104,
     "metadata": {},
     "output_type": "execute_result"
    },
    {
     "data": {
      "image/png": "[encoded data removed]",
      "text/plain": [
       "<Figure size 432x288 with 2 Axes>"
      ]
     },
     "metadata": {
      "needs_background": "light"
     },
     "output_type": "display_data"
    },
    {
     "data": {
      "image/png": "[encoded data removed]",
      "text/plain": [
       "<Figure size 432x288 with 2 Axes>"
      ]
     },
     "metadata": {
      "needs_background": "light"
     },
     "output_type": "display_data"
    }
   ],
   "source": [
    "plot_confusion_matrix(knn,X_test_pca,y_test)\n",
    "plot_confusion_matrix(rfc,X_test_pca,y_test)"
   ]
  },
  {
   "cell_type": "code",
   "execution_count": 105,
   "metadata": {},
   "outputs": [],
   "source": [
    "from sklearn.pipeline import Pipeline\n",
    "from sklearn.model_selection import GridSearchCV"
   ]
  },
  {
   "cell_type": "code",
   "execution_count": 131,
   "metadata": {},
   "outputs": [],
   "source": [
    "knn_params={\n",
    "    'n_neighbors': range(3,8),\n",
    "    'algorithm':['auto', 'ball_tree', 'kd_tree', 'brute'],\n",
    "    'leaf_size': range(5,15),\n",
    "    'p':[1,2]\n",
    "    \n",
    "}\n",
    "\n",
    "rfc_params= {\n",
    "    'n_estimators': range(500,900,50),\n",
    "    'criterion': ['gini','entropy'],\n",
    "    'max_samples': np.arange(0.1,1,0.1),\n",
    "    'max_features': range(5,10,2),\n",
    "    'max_depth': range(35,70,5)\n",
    "}"
   ]
  },
  {
   "cell_type": "code",
   "execution_count": 124,
   "metadata": {},
   "outputs": [],
   "source": [
    "rfc?"
   ]
  },
  {
   "cell_type": "code",
   "execution_count": 107,
   "metadata": {},
   "outputs": [
    {
     "name": "stdout",
     "output_type": "stream",
     "text": [
      "Fitting 3 folds for each of 10 candidates, totalling 30 fits\n",
      "[CV] p=2, n_neighbors=5, leaf_size=10, algorithm=brute ...............\n",
      "[CV]  p=2, n_neighbors=5, leaf_size=10, algorithm=brute, score=0.631, total=   0.2s\n",
      "[CV] p=2, n_neighbors=5, leaf_size=10, algorithm=brute ...............\n"
     ]
    },
    {
     "name": "stderr",
     "output_type": "stream",
     "text": [
      "[Parallel(n_jobs=1)]: Using backend SequentialBackend with 1 concurrent workers.\n",
      "[Parallel(n_jobs=1)]: Done   1 out of   1 | elapsed:    0.1s remaining:    0.0s\n"
     ]
    },
    {
     "name": "stdout",
     "output_type": "stream",
     "text": [
      "[CV]  p=2, n_neighbors=5, leaf_size=10, algorithm=brute, score=0.625, total=   0.2s\n",
      "[CV] p=2, n_neighbors=5, leaf_size=10, algorithm=brute ...............\n",
      "[CV]  p=2, n_neighbors=5, leaf_size=10, algorithm=brute, score=0.616, total=   0.2s\n",
      "[CV] p=1, n_neighbors=4, leaf_size=8, algorithm=ball_tree ............\n"
     ]
    },
    {
     "name": "stderr",
     "output_type": "stream",
     "text": [
      "[Parallel(n_jobs=1)]: Done   2 out of   2 | elapsed:    0.3s remaining:    0.0s\n",
      "[Parallel(n_jobs=1)]: Done   3 out of   3 | elapsed:    0.4s remaining:    0.0s\n"
     ]
    },
    {
     "name": "stdout",
     "output_type": "stream",
     "text": [
      "[CV]  p=1, n_neighbors=4, leaf_size=8, algorithm=ball_tree, score=0.625, total=   0.1s\n",
      "[CV] p=1, n_neighbors=4, leaf_size=8, algorithm=ball_tree ............\n",
      "[CV]  p=1, n_neighbors=4, leaf_size=8, algorithm=ball_tree, score=0.608, total=   0.1s\n",
      "[CV] p=1, n_neighbors=4, leaf_size=8, algorithm=ball_tree ............\n",
      "[CV]  p=1, n_neighbors=4, leaf_size=8, algorithm=ball_tree, score=0.619, total=   0.1s\n",
      "[CV] p=2, n_neighbors=4, leaf_size=10, algorithm=ball_tree ...........\n",
      "[CV]  p=2, n_neighbors=4, leaf_size=10, algorithm=ball_tree, score=0.622, total=   0.1s\n",
      "[CV] p=2, n_neighbors=4, leaf_size=10, algorithm=ball_tree ...........\n"
     ]
    },
    {
     "name": "stderr",
     "output_type": "stream",
     "text": [
      "[Parallel(n_jobs=1)]: Done   4 out of   4 | elapsed:    0.5s remaining:    0.0s\n",
      "[Parallel(n_jobs=1)]: Done   5 out of   5 | elapsed:    0.6s remaining:    0.0s\n",
      "[Parallel(n_jobs=1)]: Done   6 out of   6 | elapsed:    0.6s remaining:    0.0s\n",
      "[Parallel(n_jobs=1)]: Done   7 out of   7 | elapsed:    0.7s remaining:    0.0s\n"
     ]
    },
    {
     "name": "stdout",
     "output_type": "stream",
     "text": [
      "[CV]  p=2, n_neighbors=4, leaf_size=10, algorithm=ball_tree, score=0.597, total=   0.1s\n",
      "[CV] p=2, n_neighbors=4, leaf_size=10, algorithm=ball_tree ...........\n",
      "[CV]  p=2, n_neighbors=4, leaf_size=10, algorithm=ball_tree, score=0.609, total=   0.1s\n",
      "[CV] p=2, n_neighbors=3, leaf_size=11, algorithm=auto ................\n",
      "[CV]  p=2, n_neighbors=3, leaf_size=11, algorithm=auto, score=0.627, total=   0.1s\n",
      "[CV] p=2, n_neighbors=3, leaf_size=11, algorithm=auto ................\n",
      "[CV]  p=2, n_neighbors=3, leaf_size=11, algorithm=auto, score=0.620, total=   0.1s\n",
      "[CV] p=2, n_neighbors=3, leaf_size=11, algorithm=auto ................\n"
     ]
    },
    {
     "name": "stderr",
     "output_type": "stream",
     "text": [
      "[Parallel(n_jobs=1)]: Done   8 out of   8 | elapsed:    0.7s remaining:    0.0s\n",
      "[Parallel(n_jobs=1)]: Done   9 out of   9 | elapsed:    0.8s remaining:    0.0s\n"
     ]
    },
    {
     "name": "stdout",
     "output_type": "stream",
     "text": [
      "[CV]  p=2, n_neighbors=3, leaf_size=11, algorithm=auto, score=0.621, total=   0.1s\n",
      "[CV] p=1, n_neighbors=3, leaf_size=10, algorithm=brute ...............\n",
      "[CV]  p=1, n_neighbors=3, leaf_size=10, algorithm=brute, score=0.635, total=   0.1s\n",
      "[CV] p=1, n_neighbors=3, leaf_size=10, algorithm=brute ...............\n",
      "[CV]  p=1, n_neighbors=3, leaf_size=10, algorithm=brute, score=0.612, total=   0.1s\n",
      "[CV] p=1, n_neighbors=3, leaf_size=10, algorithm=brute ...............\n",
      "[CV]  p=1, n_neighbors=3, leaf_size=10, algorithm=brute, score=0.627, total=   0.1s\n",
      "[CV] p=2, n_neighbors=6, leaf_size=8, algorithm=brute ................\n",
      "[CV]  p=2, n_neighbors=6, leaf_size=8, algorithm=brute, score=0.624, total=   0.2s\n",
      "[CV] p=2, n_neighbors=6, leaf_size=8, algorithm=brute ................\n",
      "[CV]  p=2, n_neighbors=6, leaf_size=8, algorithm=brute, score=0.617, total=   0.2s\n",
      "[CV] p=2, n_neighbors=6, leaf_size=8, algorithm=brute ................\n",
      "[CV]  p=2, n_neighbors=6, leaf_size=8, algorithm=brute, score=0.606, total=   0.2s\n",
      "[CV] p=2, n_neighbors=7, leaf_size=10, algorithm=brute ...............\n",
      "[CV]  p=2, n_neighbors=7, leaf_size=10, algorithm=brute, score=0.627, total=   0.2s\n",
      "[CV] p=2, n_neighbors=7, leaf_size=10, algorithm=brute ...............\n",
      "[CV]  p=2, n_neighbors=7, leaf_size=10, algorithm=brute, score=0.628, total=   0.2s\n",
      "[CV] p=2, n_neighbors=7, leaf_size=10, algorithm=brute ...............\n",
      "[CV]  p=2, n_neighbors=7, leaf_size=10, algorithm=brute, score=0.616, total=   0.2s\n",
      "[CV] p=1, n_neighbors=4, leaf_size=6, algorithm=auto .................\n",
      "[CV]  p=1, n_neighbors=4, leaf_size=6, algorithm=auto, score=0.625, total=   0.1s\n",
      "[CV] p=1, n_neighbors=4, leaf_size=6, algorithm=auto .................\n",
      "[CV]  p=1, n_neighbors=4, leaf_size=6, algorithm=auto, score=0.608, total=   0.1s\n",
      "[CV] p=1, n_neighbors=4, leaf_size=6, algorithm=auto .................\n",
      "[CV]  p=1, n_neighbors=4, leaf_size=6, algorithm=auto, score=0.619, total=   0.0s\n",
      "[CV] p=2, n_neighbors=7, leaf_size=9, algorithm=auto .................\n",
      "[CV]  p=2, n_neighbors=7, leaf_size=9, algorithm=auto, score=0.627, total=   0.1s\n",
      "[CV] p=2, n_neighbors=7, leaf_size=9, algorithm=auto .................\n",
      "[CV]  p=2, n_neighbors=7, leaf_size=9, algorithm=auto, score=0.628, total=   0.1s\n",
      "[CV] p=2, n_neighbors=7, leaf_size=9, algorithm=auto .................\n",
      "[CV]  p=2, n_neighbors=7, leaf_size=9, algorithm=auto, score=0.616, total=   0.1s\n",
      "[CV] p=2, n_neighbors=6, leaf_size=12, algorithm=brute ...............\n",
      "[CV]  p=2, n_neighbors=6, leaf_size=12, algorithm=brute, score=0.624, total=   0.2s\n",
      "[CV] p=2, n_neighbors=6, leaf_size=12, algorithm=brute ...............\n",
      "[CV]  p=2, n_neighbors=6, leaf_size=12, algorithm=brute, score=0.617, total=   0.2s\n",
      "[CV] p=2, n_neighbors=6, leaf_size=12, algorithm=brute ...............\n",
      "[CV]  p=2, n_neighbors=6, leaf_size=12, algorithm=brute, score=0.606, total=   0.2s\n"
     ]
    },
    {
     "name": "stderr",
     "output_type": "stream",
     "text": [
      "[Parallel(n_jobs=1)]: Done  30 out of  30 | elapsed:    3.3s finished\n"
     ]
    },
    {
     "data": {
      "text/plain": [
       "({'p': 1, 'n_neighbors': 3, 'leaf_size': 10, 'algorithm': 'brute'},\n",
       " 0.6246256111356855)"
      ]
     },
     "execution_count": 107,
     "metadata": {},
     "output_type": "execute_result"
    }
   ],
   "source": [
    "knn_random=RandomizedSearchCV(knn,param_distributions=knn_params,scoring='f1_weighted',cv=3, verbose=10)\n",
    "knn_random.fit(X_train_pca,y_train)\n",
    "knn_random.best_params_,knn_random.best_score_"
   ]
  },
  {
   "cell_type": "code",
   "execution_count": 108,
   "metadata": {},
   "outputs": [
    {
     "data": {
      "text/plain": [
       "0.6427746271263343"
      ]
     },
     "execution_count": 108,
     "metadata": {},
     "output_type": "execute_result"
    }
   ],
   "source": [
    "f1_score(y_test,knn_random.best_estimator_.predict(X_test_pca),average='weighted')"
   ]
  },
  {
   "cell_type": "code",
   "execution_count": 132,
   "metadata": {},
   "outputs": [
    {
     "name": "stdout",
     "output_type": "stream",
     "text": [
      "Fitting 3 folds for each of 10 candidates, totalling 30 fits\n",
      "[CV] n_estimators=800, max_samples=0.30000000000000004, max_features=9, max_depth=65, criterion=gini \n"
     ]
    },
    {
     "name": "stderr",
     "output_type": "stream",
     "text": [
      "[Parallel(n_jobs=1)]: Using backend SequentialBackend with 1 concurrent workers.\n",
      "C:\\Users\\matth\\anaconda3\\envs\\Kaggle\\lib\\site-packages\\sklearn\\model_selection\\_validation.py:552: FitFailedWarning: Estimator fit failed. The score on this train-test partition for these parameters will be set to nan. Details: \n",
      "Traceback (most recent call last):\n",
      "  File \"C:\\Users\\matth\\anaconda3\\envs\\Kaggle\\lib\\site-packages\\sklearn\\model_selection\\_validation.py\", line 531, in _fit_and_score\n",
      "    estimator.fit(X_train, y_train, **fit_params)\n",
      "  File \"C:\\Users\\matth\\anaconda3\\envs\\Kaggle\\lib\\site-packages\\sklearn\\ensemble\\_forest.py\", line 392, in fit\n",
      "    for i, t in enumerate(trees))\n",
      "  File \"C:\\Users\\matth\\anaconda3\\envs\\Kaggle\\lib\\site-packages\\joblib\\parallel.py\", line 1029, in __call__\n",
      "    if self.dispatch_one_batch(iterator):\n",
      "  File \"C:\\Users\\matth\\anaconda3\\envs\\Kaggle\\lib\\site-packages\\joblib\\parallel.py\", line 847, in dispatch_one_batch\n",
      "    self._dispatch(tasks)\n",
      "  File \"C:\\Users\\matth\\anaconda3\\envs\\Kaggle\\lib\\site-packages\\joblib\\parallel.py\", line 765, in _dispatch\n",
      "    job = self._backend.apply_async(batch, callback=cb)\n",
      "  File \"C:\\Users\\matth\\anaconda3\\envs\\Kaggle\\lib\\site-packages\\joblib\\_parallel_backends.py\", line 208, in apply_async\n",
      "    result = ImmediateResult(func)\n",
      "  File \"C:\\Users\\matth\\anaconda3\\envs\\Kaggle\\lib\\site-packages\\joblib\\_parallel_backends.py\", line 572, in __init__\n",
      "    self.results = batch()\n",
      "  File \"C:\\Users\\matth\\anaconda3\\envs\\Kaggle\\lib\\site-packages\\joblib\\parallel.py\", line 253, in __call__\n",
      "    for func, args, kwargs in self.items]\n",
      "  File \"C:\\Users\\matth\\anaconda3\\envs\\Kaggle\\lib\\site-packages\\joblib\\parallel.py\", line 253, in <listcomp>\n",
      "    for func, args, kwargs in self.items]\n",
      "  File \"C:\\Users\\matth\\anaconda3\\envs\\Kaggle\\lib\\site-packages\\sklearn\\ensemble\\_forest.py\", line 168, in _parallel_build_trees\n",
      "    tree.fit(X, y, sample_weight=curr_sample_weight, check_input=False)\n",
      "  File \"C:\\Users\\matth\\anaconda3\\envs\\Kaggle\\lib\\site-packages\\sklearn\\tree\\_classes.py\", line 894, in fit\n",
      "    X_idx_sorted=X_idx_sorted)\n",
      "  File \"C:\\Users\\matth\\anaconda3\\envs\\Kaggle\\lib\\site-packages\\sklearn\\tree\\_classes.py\", line 279, in fit\n",
      "    raise ValueError(\"max_features must be in (0, n_features]\")\n",
      "ValueError: max_features must be in (0, n_features]\n",
      "\n",
      "  FitFailedWarning)\n",
      "[Parallel(n_jobs=1)]: Done   1 out of   1 | elapsed:    0.1s remaining:    0.0s\n"
     ]
    },
    {
     "name": "stdout",
     "output_type": "stream",
     "text": [
      "[CV]  n_estimators=800, max_samples=0.30000000000000004, max_features=9, max_depth=65, criterion=gini, score=nan, total=   0.2s\n",
      "[CV] n_estimators=800, max_samples=0.30000000000000004, max_features=9, max_depth=65, criterion=gini \n"
     ]
    },
    {
     "name": "stderr",
     "output_type": "stream",
     "text": [
      "C:\\Users\\matth\\anaconda3\\envs\\Kaggle\\lib\\site-packages\\sklearn\\model_selection\\_validation.py:552: FitFailedWarning: Estimator fit failed. The score on this train-test partition for these parameters will be set to nan. Details: \n",
      "Traceback (most recent call last):\n",
      "  File \"C:\\Users\\matth\\anaconda3\\envs\\Kaggle\\lib\\site-packages\\sklearn\\model_selection\\_validation.py\", line 531, in _fit_and_score\n",
      "    estimator.fit(X_train, y_train, **fit_params)\n",
      "  File \"C:\\Users\\matth\\anaconda3\\envs\\Kaggle\\lib\\site-packages\\sklearn\\ensemble\\_forest.py\", line 392, in fit\n",
      "    for i, t in enumerate(trees))\n",
      "  File \"C:\\Users\\matth\\anaconda3\\envs\\Kaggle\\lib\\site-packages\\joblib\\parallel.py\", line 1029, in __call__\n",
      "    if self.dispatch_one_batch(iterator):\n",
      "  File \"C:\\Users\\matth\\anaconda3\\envs\\Kaggle\\lib\\site-packages\\joblib\\parallel.py\", line 847, in dispatch_one_batch\n",
      "    self._dispatch(tasks)\n",
      "  File \"C:\\Users\\matth\\anaconda3\\envs\\Kaggle\\lib\\site-packages\\joblib\\parallel.py\", line 765, in _dispatch\n",
      "    job = self._backend.apply_async(batch, callback=cb)\n",
      "  File \"C:\\Users\\matth\\anaconda3\\envs\\Kaggle\\lib\\site-packages\\joblib\\_parallel_backends.py\", line 208, in apply_async\n",
      "    result = ImmediateResult(func)\n",
      "  File \"C:\\Users\\matth\\anaconda3\\envs\\Kaggle\\lib\\site-packages\\joblib\\_parallel_backends.py\", line 572, in __init__\n",
      "    self.results = batch()\n",
      "  File \"C:\\Users\\matth\\anaconda3\\envs\\Kaggle\\lib\\site-packages\\joblib\\parallel.py\", line 253, in __call__\n",
      "    for func, args, kwargs in self.items]\n",
      "  File \"C:\\Users\\matth\\anaconda3\\envs\\Kaggle\\lib\\site-packages\\joblib\\parallel.py\", line 253, in <listcomp>\n",
      "    for func, args, kwargs in self.items]\n",
      "  File \"C:\\Users\\matth\\anaconda3\\envs\\Kaggle\\lib\\site-packages\\sklearn\\ensemble\\_forest.py\", line 168, in _parallel_build_trees\n",
      "    tree.fit(X, y, sample_weight=curr_sample_weight, check_input=False)\n",
      "  File \"C:\\Users\\matth\\anaconda3\\envs\\Kaggle\\lib\\site-packages\\sklearn\\tree\\_classes.py\", line 894, in fit\n",
      "    X_idx_sorted=X_idx_sorted)\n",
      "  File \"C:\\Users\\matth\\anaconda3\\envs\\Kaggle\\lib\\site-packages\\sklearn\\tree\\_classes.py\", line 279, in fit\n",
      "    raise ValueError(\"max_features must be in (0, n_features]\")\n",
      "ValueError: max_features must be in (0, n_features]\n",
      "\n",
      "  FitFailedWarning)\n",
      "[Parallel(n_jobs=1)]: Done   2 out of   2 | elapsed:    0.4s remaining:    0.0s\n"
     ]
    },
    {
     "name": "stdout",
     "output_type": "stream",
     "text": [
      "[CV]  n_estimators=800, max_samples=0.30000000000000004, max_features=9, max_depth=65, criterion=gini, score=nan, total=   0.3s\n",
      "[CV] n_estimators=800, max_samples=0.30000000000000004, max_features=9, max_depth=65, criterion=gini \n"
     ]
    },
    {
     "name": "stderr",
     "output_type": "stream",
     "text": [
      "C:\\Users\\matth\\anaconda3\\envs\\Kaggle\\lib\\site-packages\\sklearn\\model_selection\\_validation.py:552: FitFailedWarning: Estimator fit failed. The score on this train-test partition for these parameters will be set to nan. Details: \n",
      "Traceback (most recent call last):\n",
      "  File \"C:\\Users\\matth\\anaconda3\\envs\\Kaggle\\lib\\site-packages\\sklearn\\model_selection\\_validation.py\", line 531, in _fit_and_score\n",
      "    estimator.fit(X_train, y_train, **fit_params)\n",
      "  File \"C:\\Users\\matth\\anaconda3\\envs\\Kaggle\\lib\\site-packages\\sklearn\\ensemble\\_forest.py\", line 392, in fit\n",
      "    for i, t in enumerate(trees))\n",
      "  File \"C:\\Users\\matth\\anaconda3\\envs\\Kaggle\\lib\\site-packages\\joblib\\parallel.py\", line 1029, in __call__\n",
      "    if self.dispatch_one_batch(iterator):\n",
      "  File \"C:\\Users\\matth\\anaconda3\\envs\\Kaggle\\lib\\site-packages\\joblib\\parallel.py\", line 847, in dispatch_one_batch\n",
      "    self._dispatch(tasks)\n",
      "  File \"C:\\Users\\matth\\anaconda3\\envs\\Kaggle\\lib\\site-packages\\joblib\\parallel.py\", line 765, in _dispatch\n",
      "    job = self._backend.apply_async(batch, callback=cb)\n",
      "  File \"C:\\Users\\matth\\anaconda3\\envs\\Kaggle\\lib\\site-packages\\joblib\\_parallel_backends.py\", line 208, in apply_async\n",
      "    result = ImmediateResult(func)\n",
      "  File \"C:\\Users\\matth\\anaconda3\\envs\\Kaggle\\lib\\site-packages\\joblib\\_parallel_backends.py\", line 572, in __init__\n",
      "    self.results = batch()\n",
      "  File \"C:\\Users\\matth\\anaconda3\\envs\\Kaggle\\lib\\site-packages\\joblib\\parallel.py\", line 253, in __call__\n",
      "    for func, args, kwargs in self.items]\n",
      "  File \"C:\\Users\\matth\\anaconda3\\envs\\Kaggle\\lib\\site-packages\\joblib\\parallel.py\", line 253, in <listcomp>\n",
      "    for func, args, kwargs in self.items]\n",
      "  File \"C:\\Users\\matth\\anaconda3\\envs\\Kaggle\\lib\\site-packages\\sklearn\\ensemble\\_forest.py\", line 168, in _parallel_build_trees\n",
      "    tree.fit(X, y, sample_weight=curr_sample_weight, check_input=False)\n",
      "  File \"C:\\Users\\matth\\anaconda3\\envs\\Kaggle\\lib\\site-packages\\sklearn\\tree\\_classes.py\", line 894, in fit\n",
      "    X_idx_sorted=X_idx_sorted)\n",
      "  File \"C:\\Users\\matth\\anaconda3\\envs\\Kaggle\\lib\\site-packages\\sklearn\\tree\\_classes.py\", line 279, in fit\n",
      "    raise ValueError(\"max_features must be in (0, n_features]\")\n",
      "ValueError: max_features must be in (0, n_features]\n",
      "\n",
      "  FitFailedWarning)\n",
      "[Parallel(n_jobs=1)]: Done   3 out of   3 | elapsed:    0.7s remaining:    0.0s\n"
     ]
    },
    {
     "name": "stdout",
     "output_type": "stream",
     "text": [
      "[CV]  n_estimators=800, max_samples=0.30000000000000004, max_features=9, max_depth=65, criterion=gini, score=nan, total=   0.2s\n",
      "[CV] n_estimators=700, max_samples=0.6, max_features=9, max_depth=55, criterion=gini \n"
     ]
    },
    {
     "name": "stderr",
     "output_type": "stream",
     "text": [
      "C:\\Users\\matth\\anaconda3\\envs\\Kaggle\\lib\\site-packages\\sklearn\\model_selection\\_validation.py:552: FitFailedWarning: Estimator fit failed. The score on this train-test partition for these parameters will be set to nan. Details: \n",
      "Traceback (most recent call last):\n",
      "  File \"C:\\Users\\matth\\anaconda3\\envs\\Kaggle\\lib\\site-packages\\sklearn\\model_selection\\_validation.py\", line 531, in _fit_and_score\n",
      "    estimator.fit(X_train, y_train, **fit_params)\n",
      "  File \"C:\\Users\\matth\\anaconda3\\envs\\Kaggle\\lib\\site-packages\\sklearn\\ensemble\\_forest.py\", line 392, in fit\n",
      "    for i, t in enumerate(trees))\n",
      "  File \"C:\\Users\\matth\\anaconda3\\envs\\Kaggle\\lib\\site-packages\\joblib\\parallel.py\", line 1029, in __call__\n",
      "    if self.dispatch_one_batch(iterator):\n",
      "  File \"C:\\Users\\matth\\anaconda3\\envs\\Kaggle\\lib\\site-packages\\joblib\\parallel.py\", line 847, in dispatch_one_batch\n",
      "    self._dispatch(tasks)\n",
      "  File \"C:\\Users\\matth\\anaconda3\\envs\\Kaggle\\lib\\site-packages\\joblib\\parallel.py\", line 765, in _dispatch\n",
      "    job = self._backend.apply_async(batch, callback=cb)\n",
      "  File \"C:\\Users\\matth\\anaconda3\\envs\\Kaggle\\lib\\site-packages\\joblib\\_parallel_backends.py\", line 208, in apply_async\n",
      "    result = ImmediateResult(func)\n",
      "  File \"C:\\Users\\matth\\anaconda3\\envs\\Kaggle\\lib\\site-packages\\joblib\\_parallel_backends.py\", line 572, in __init__\n",
      "    self.results = batch()\n",
      "  File \"C:\\Users\\matth\\anaconda3\\envs\\Kaggle\\lib\\site-packages\\joblib\\parallel.py\", line 253, in __call__\n",
      "    for func, args, kwargs in self.items]\n",
      "  File \"C:\\Users\\matth\\anaconda3\\envs\\Kaggle\\lib\\site-packages\\joblib\\parallel.py\", line 253, in <listcomp>\n",
      "    for func, args, kwargs in self.items]\n",
      "  File \"C:\\Users\\matth\\anaconda3\\envs\\Kaggle\\lib\\site-packages\\sklearn\\ensemble\\_forest.py\", line 168, in _parallel_build_trees\n",
      "    tree.fit(X, y, sample_weight=curr_sample_weight, check_input=False)\n",
      "  File \"C:\\Users\\matth\\anaconda3\\envs\\Kaggle\\lib\\site-packages\\sklearn\\tree\\_classes.py\", line 894, in fit\n",
      "    X_idx_sorted=X_idx_sorted)\n",
      "  File \"C:\\Users\\matth\\anaconda3\\envs\\Kaggle\\lib\\site-packages\\sklearn\\tree\\_classes.py\", line 279, in fit\n",
      "    raise ValueError(\"max_features must be in (0, n_features]\")\n",
      "ValueError: max_features must be in (0, n_features]\n",
      "\n",
      "  FitFailedWarning)\n",
      "[Parallel(n_jobs=1)]: Done   4 out of   4 | elapsed:    0.9s remaining:    0.0s\n"
     ]
    },
    {
     "name": "stdout",
     "output_type": "stream",
     "text": [
      "[CV]  n_estimators=700, max_samples=0.6, max_features=9, max_depth=55, criterion=gini, score=nan, total=   0.2s\n",
      "[CV] n_estimators=700, max_samples=0.6, max_features=9, max_depth=55, criterion=gini \n"
     ]
    },
    {
     "name": "stderr",
     "output_type": "stream",
     "text": [
      "C:\\Users\\matth\\anaconda3\\envs\\Kaggle\\lib\\site-packages\\sklearn\\model_selection\\_validation.py:552: FitFailedWarning: Estimator fit failed. The score on this train-test partition for these parameters will be set to nan. Details: \n",
      "Traceback (most recent call last):\n",
      "  File \"C:\\Users\\matth\\anaconda3\\envs\\Kaggle\\lib\\site-packages\\sklearn\\model_selection\\_validation.py\", line 531, in _fit_and_score\n",
      "    estimator.fit(X_train, y_train, **fit_params)\n",
      "  File \"C:\\Users\\matth\\anaconda3\\envs\\Kaggle\\lib\\site-packages\\sklearn\\ensemble\\_forest.py\", line 392, in fit\n",
      "    for i, t in enumerate(trees))\n",
      "  File \"C:\\Users\\matth\\anaconda3\\envs\\Kaggle\\lib\\site-packages\\joblib\\parallel.py\", line 1029, in __call__\n",
      "    if self.dispatch_one_batch(iterator):\n",
      "  File \"C:\\Users\\matth\\anaconda3\\envs\\Kaggle\\lib\\site-packages\\joblib\\parallel.py\", line 847, in dispatch_one_batch\n",
      "    self._dispatch(tasks)\n",
      "  File \"C:\\Users\\matth\\anaconda3\\envs\\Kaggle\\lib\\site-packages\\joblib\\parallel.py\", line 765, in _dispatch\n",
      "    job = self._backend.apply_async(batch, callback=cb)\n",
      "  File \"C:\\Users\\matth\\anaconda3\\envs\\Kaggle\\lib\\site-packages\\joblib\\_parallel_backends.py\", line 208, in apply_async\n",
      "    result = ImmediateResult(func)\n",
      "  File \"C:\\Users\\matth\\anaconda3\\envs\\Kaggle\\lib\\site-packages\\joblib\\_parallel_backends.py\", line 572, in __init__\n",
      "    self.results = batch()\n",
      "  File \"C:\\Users\\matth\\anaconda3\\envs\\Kaggle\\lib\\site-packages\\joblib\\parallel.py\", line 253, in __call__\n",
      "    for func, args, kwargs in self.items]\n",
      "  File \"C:\\Users\\matth\\anaconda3\\envs\\Kaggle\\lib\\site-packages\\joblib\\parallel.py\", line 253, in <listcomp>\n",
      "    for func, args, kwargs in self.items]\n",
      "  File \"C:\\Users\\matth\\anaconda3\\envs\\Kaggle\\lib\\site-packages\\sklearn\\ensemble\\_forest.py\", line 168, in _parallel_build_trees\n",
      "    tree.fit(X, y, sample_weight=curr_sample_weight, check_input=False)\n",
      "  File \"C:\\Users\\matth\\anaconda3\\envs\\Kaggle\\lib\\site-packages\\sklearn\\tree\\_classes.py\", line 894, in fit\n",
      "    X_idx_sorted=X_idx_sorted)\n",
      "  File \"C:\\Users\\matth\\anaconda3\\envs\\Kaggle\\lib\\site-packages\\sklearn\\tree\\_classes.py\", line 279, in fit\n",
      "    raise ValueError(\"max_features must be in (0, n_features]\")\n",
      "ValueError: max_features must be in (0, n_features]\n",
      "\n",
      "  FitFailedWarning)\n",
      "[Parallel(n_jobs=1)]: Done   5 out of   5 | elapsed:    1.1s remaining:    0.0s\n"
     ]
    },
    {
     "name": "stdout",
     "output_type": "stream",
     "text": [
      "[CV]  n_estimators=700, max_samples=0.6, max_features=9, max_depth=55, criterion=gini, score=nan, total=   0.2s\n",
      "[CV] n_estimators=700, max_samples=0.6, max_features=9, max_depth=55, criterion=gini \n"
     ]
    },
    {
     "name": "stderr",
     "output_type": "stream",
     "text": [
      "C:\\Users\\matth\\anaconda3\\envs\\Kaggle\\lib\\site-packages\\sklearn\\model_selection\\_validation.py:552: FitFailedWarning: Estimator fit failed. The score on this train-test partition for these parameters will be set to nan. Details: \n",
      "Traceback (most recent call last):\n",
      "  File \"C:\\Users\\matth\\anaconda3\\envs\\Kaggle\\lib\\site-packages\\sklearn\\model_selection\\_validation.py\", line 531, in _fit_and_score\n",
      "    estimator.fit(X_train, y_train, **fit_params)\n",
      "  File \"C:\\Users\\matth\\anaconda3\\envs\\Kaggle\\lib\\site-packages\\sklearn\\ensemble\\_forest.py\", line 392, in fit\n",
      "    for i, t in enumerate(trees))\n",
      "  File \"C:\\Users\\matth\\anaconda3\\envs\\Kaggle\\lib\\site-packages\\joblib\\parallel.py\", line 1029, in __call__\n",
      "    if self.dispatch_one_batch(iterator):\n",
      "  File \"C:\\Users\\matth\\anaconda3\\envs\\Kaggle\\lib\\site-packages\\joblib\\parallel.py\", line 847, in dispatch_one_batch\n",
      "    self._dispatch(tasks)\n",
      "  File \"C:\\Users\\matth\\anaconda3\\envs\\Kaggle\\lib\\site-packages\\joblib\\parallel.py\", line 765, in _dispatch\n",
      "    job = self._backend.apply_async(batch, callback=cb)\n",
      "  File \"C:\\Users\\matth\\anaconda3\\envs\\Kaggle\\lib\\site-packages\\joblib\\_parallel_backends.py\", line 208, in apply_async\n",
      "    result = ImmediateResult(func)\n",
      "  File \"C:\\Users\\matth\\anaconda3\\envs\\Kaggle\\lib\\site-packages\\joblib\\_parallel_backends.py\", line 572, in __init__\n",
      "    self.results = batch()\n",
      "  File \"C:\\Users\\matth\\anaconda3\\envs\\Kaggle\\lib\\site-packages\\joblib\\parallel.py\", line 253, in __call__\n",
      "    for func, args, kwargs in self.items]\n",
      "  File \"C:\\Users\\matth\\anaconda3\\envs\\Kaggle\\lib\\site-packages\\joblib\\parallel.py\", line 253, in <listcomp>\n",
      "    for func, args, kwargs in self.items]\n",
      "  File \"C:\\Users\\matth\\anaconda3\\envs\\Kaggle\\lib\\site-packages\\sklearn\\ensemble\\_forest.py\", line 168, in _parallel_build_trees\n",
      "    tree.fit(X, y, sample_weight=curr_sample_weight, check_input=False)\n",
      "  File \"C:\\Users\\matth\\anaconda3\\envs\\Kaggle\\lib\\site-packages\\sklearn\\tree\\_classes.py\", line 894, in fit\n",
      "    X_idx_sorted=X_idx_sorted)\n",
      "  File \"C:\\Users\\matth\\anaconda3\\envs\\Kaggle\\lib\\site-packages\\sklearn\\tree\\_classes.py\", line 279, in fit\n",
      "    raise ValueError(\"max_features must be in (0, n_features]\")\n",
      "ValueError: max_features must be in (0, n_features]\n",
      "\n",
      "  FitFailedWarning)\n",
      "[Parallel(n_jobs=1)]: Done   6 out of   6 | elapsed:    1.3s remaining:    0.0s\n"
     ]
    },
    {
     "name": "stdout",
     "output_type": "stream",
     "text": [
      "[CV]  n_estimators=700, max_samples=0.6, max_features=9, max_depth=55, criterion=gini, score=nan, total=   0.2s\n",
      "[CV] n_estimators=500, max_samples=0.5, max_features=7, max_depth=35, criterion=gini \n",
      "[CV]  n_estimators=500, max_samples=0.5, max_features=7, max_depth=35, criterion=gini, score=0.685, total=   5.2s\n",
      "[CV] n_estimators=500, max_samples=0.5, max_features=7, max_depth=35, criterion=gini \n"
     ]
    },
    {
     "name": "stderr",
     "output_type": "stream",
     "text": [
      "[Parallel(n_jobs=1)]: Done   7 out of   7 | elapsed:    6.5s remaining:    0.0s\n"
     ]
    },
    {
     "name": "stdout",
     "output_type": "stream",
     "text": [
      "[CV]  n_estimators=500, max_samples=0.5, max_features=7, max_depth=35, criterion=gini, score=0.683, total=   5.1s\n",
      "[CV] n_estimators=500, max_samples=0.5, max_features=7, max_depth=35, criterion=gini \n"
     ]
    },
    {
     "name": "stderr",
     "output_type": "stream",
     "text": [
      "[Parallel(n_jobs=1)]: Done   8 out of   8 | elapsed:   11.6s remaining:    0.0s\n"
     ]
    },
    {
     "name": "stdout",
     "output_type": "stream",
     "text": [
      "[CV]  n_estimators=500, max_samples=0.5, max_features=7, max_depth=35, criterion=gini, score=0.693, total=   5.2s\n",
      "[CV] n_estimators=700, max_samples=0.6, max_features=9, max_depth=60, criterion=gini \n"
     ]
    },
    {
     "name": "stderr",
     "output_type": "stream",
     "text": [
      "[Parallel(n_jobs=1)]: Done   9 out of   9 | elapsed:   16.7s remaining:    0.0s\n",
      "C:\\Users\\matth\\anaconda3\\envs\\Kaggle\\lib\\site-packages\\sklearn\\model_selection\\_validation.py:552: FitFailedWarning: Estimator fit failed. The score on this train-test partition for these parameters will be set to nan. Details: \n",
      "Traceback (most recent call last):\n",
      "  File \"C:\\Users\\matth\\anaconda3\\envs\\Kaggle\\lib\\site-packages\\sklearn\\model_selection\\_validation.py\", line 531, in _fit_and_score\n",
      "    estimator.fit(X_train, y_train, **fit_params)\n",
      "  File \"C:\\Users\\matth\\anaconda3\\envs\\Kaggle\\lib\\site-packages\\sklearn\\ensemble\\_forest.py\", line 392, in fit\n",
      "    for i, t in enumerate(trees))\n",
      "  File \"C:\\Users\\matth\\anaconda3\\envs\\Kaggle\\lib\\site-packages\\joblib\\parallel.py\", line 1029, in __call__\n",
      "    if self.dispatch_one_batch(iterator):\n",
      "  File \"C:\\Users\\matth\\anaconda3\\envs\\Kaggle\\lib\\site-packages\\joblib\\parallel.py\", line 847, in dispatch_one_batch\n",
      "    self._dispatch(tasks)\n",
      "  File \"C:\\Users\\matth\\anaconda3\\envs\\Kaggle\\lib\\site-packages\\joblib\\parallel.py\", line 765, in _dispatch\n",
      "    job = self._backend.apply_async(batch, callback=cb)\n",
      "  File \"C:\\Users\\matth\\anaconda3\\envs\\Kaggle\\lib\\site-packages\\joblib\\_parallel_backends.py\", line 208, in apply_async\n",
      "    result = ImmediateResult(func)\n",
      "  File \"C:\\Users\\matth\\anaconda3\\envs\\Kaggle\\lib\\site-packages\\joblib\\_parallel_backends.py\", line 572, in __init__\n",
      "    self.results = batch()\n",
      "  File \"C:\\Users\\matth\\anaconda3\\envs\\Kaggle\\lib\\site-packages\\joblib\\parallel.py\", line 253, in __call__\n",
      "    for func, args, kwargs in self.items]\n",
      "  File \"C:\\Users\\matth\\anaconda3\\envs\\Kaggle\\lib\\site-packages\\joblib\\parallel.py\", line 253, in <listcomp>\n",
      "    for func, args, kwargs in self.items]\n",
      "  File \"C:\\Users\\matth\\anaconda3\\envs\\Kaggle\\lib\\site-packages\\sklearn\\ensemble\\_forest.py\", line 168, in _parallel_build_trees\n",
      "    tree.fit(X, y, sample_weight=curr_sample_weight, check_input=False)\n",
      "  File \"C:\\Users\\matth\\anaconda3\\envs\\Kaggle\\lib\\site-packages\\sklearn\\tree\\_classes.py\", line 894, in fit\n",
      "    X_idx_sorted=X_idx_sorted)\n",
      "  File \"C:\\Users\\matth\\anaconda3\\envs\\Kaggle\\lib\\site-packages\\sklearn\\tree\\_classes.py\", line 279, in fit\n",
      "    raise ValueError(\"max_features must be in (0, n_features]\")\n",
      "ValueError: max_features must be in (0, n_features]\n",
      "\n",
      "  FitFailedWarning)\n"
     ]
    },
    {
     "name": "stdout",
     "output_type": "stream",
     "text": [
      "[CV]  n_estimators=700, max_samples=0.6, max_features=9, max_depth=60, criterion=gini, score=nan, total=   0.2s\n",
      "[CV] n_estimators=700, max_samples=0.6, max_features=9, max_depth=60, criterion=gini \n"
     ]
    },
    {
     "name": "stderr",
     "output_type": "stream",
     "text": [
      "C:\\Users\\matth\\anaconda3\\envs\\Kaggle\\lib\\site-packages\\sklearn\\model_selection\\_validation.py:552: FitFailedWarning: Estimator fit failed. The score on this train-test partition for these parameters will be set to nan. Details: \n",
      "Traceback (most recent call last):\n",
      "  File \"C:\\Users\\matth\\anaconda3\\envs\\Kaggle\\lib\\site-packages\\sklearn\\model_selection\\_validation.py\", line 531, in _fit_and_score\n",
      "    estimator.fit(X_train, y_train, **fit_params)\n",
      "  File \"C:\\Users\\matth\\anaconda3\\envs\\Kaggle\\lib\\site-packages\\sklearn\\ensemble\\_forest.py\", line 392, in fit\n",
      "    for i, t in enumerate(trees))\n",
      "  File \"C:\\Users\\matth\\anaconda3\\envs\\Kaggle\\lib\\site-packages\\joblib\\parallel.py\", line 1029, in __call__\n",
      "    if self.dispatch_one_batch(iterator):\n",
      "  File \"C:\\Users\\matth\\anaconda3\\envs\\Kaggle\\lib\\site-packages\\joblib\\parallel.py\", line 847, in dispatch_one_batch\n",
      "    self._dispatch(tasks)\n",
      "  File \"C:\\Users\\matth\\anaconda3\\envs\\Kaggle\\lib\\site-packages\\joblib\\parallel.py\", line 765, in _dispatch\n",
      "    job = self._backend.apply_async(batch, callback=cb)\n",
      "  File \"C:\\Users\\matth\\anaconda3\\envs\\Kaggle\\lib\\site-packages\\joblib\\_parallel_backends.py\", line 208, in apply_async\n",
      "    result = ImmediateResult(func)\n",
      "  File \"C:\\Users\\matth\\anaconda3\\envs\\Kaggle\\lib\\site-packages\\joblib\\_parallel_backends.py\", line 572, in __init__\n",
      "    self.results = batch()\n",
      "  File \"C:\\Users\\matth\\anaconda3\\envs\\Kaggle\\lib\\site-packages\\joblib\\parallel.py\", line 253, in __call__\n",
      "    for func, args, kwargs in self.items]\n",
      "  File \"C:\\Users\\matth\\anaconda3\\envs\\Kaggle\\lib\\site-packages\\joblib\\parallel.py\", line 253, in <listcomp>\n",
      "    for func, args, kwargs in self.items]\n",
      "  File \"C:\\Users\\matth\\anaconda3\\envs\\Kaggle\\lib\\site-packages\\sklearn\\ensemble\\_forest.py\", line 168, in _parallel_build_trees\n",
      "    tree.fit(X, y, sample_weight=curr_sample_weight, check_input=False)\n",
      "  File \"C:\\Users\\matth\\anaconda3\\envs\\Kaggle\\lib\\site-packages\\sklearn\\tree\\_classes.py\", line 894, in fit\n",
      "    X_idx_sorted=X_idx_sorted)\n",
      "  File \"C:\\Users\\matth\\anaconda3\\envs\\Kaggle\\lib\\site-packages\\sklearn\\tree\\_classes.py\", line 279, in fit\n",
      "    raise ValueError(\"max_features must be in (0, n_features]\")\n",
      "ValueError: max_features must be in (0, n_features]\n",
      "\n",
      "  FitFailedWarning)\n"
     ]
    },
    {
     "name": "stdout",
     "output_type": "stream",
     "text": [
      "[CV]  n_estimators=700, max_samples=0.6, max_features=9, max_depth=60, criterion=gini, score=nan, total=   0.2s\n",
      "[CV] n_estimators=700, max_samples=0.6, max_features=9, max_depth=60, criterion=gini \n"
     ]
    },
    {
     "name": "stderr",
     "output_type": "stream",
     "text": [
      "C:\\Users\\matth\\anaconda3\\envs\\Kaggle\\lib\\site-packages\\sklearn\\model_selection\\_validation.py:552: FitFailedWarning: Estimator fit failed. The score on this train-test partition for these parameters will be set to nan. Details: \n",
      "Traceback (most recent call last):\n",
      "  File \"C:\\Users\\matth\\anaconda3\\envs\\Kaggle\\lib\\site-packages\\sklearn\\model_selection\\_validation.py\", line 531, in _fit_and_score\n",
      "    estimator.fit(X_train, y_train, **fit_params)\n",
      "  File \"C:\\Users\\matth\\anaconda3\\envs\\Kaggle\\lib\\site-packages\\sklearn\\ensemble\\_forest.py\", line 392, in fit\n",
      "    for i, t in enumerate(trees))\n",
      "  File \"C:\\Users\\matth\\anaconda3\\envs\\Kaggle\\lib\\site-packages\\joblib\\parallel.py\", line 1029, in __call__\n",
      "    if self.dispatch_one_batch(iterator):\n",
      "  File \"C:\\Users\\matth\\anaconda3\\envs\\Kaggle\\lib\\site-packages\\joblib\\parallel.py\", line 847, in dispatch_one_batch\n",
      "    self._dispatch(tasks)\n",
      "  File \"C:\\Users\\matth\\anaconda3\\envs\\Kaggle\\lib\\site-packages\\joblib\\parallel.py\", line 765, in _dispatch\n",
      "    job = self._backend.apply_async(batch, callback=cb)\n",
      "  File \"C:\\Users\\matth\\anaconda3\\envs\\Kaggle\\lib\\site-packages\\joblib\\_parallel_backends.py\", line 208, in apply_async\n",
      "    result = ImmediateResult(func)\n",
      "  File \"C:\\Users\\matth\\anaconda3\\envs\\Kaggle\\lib\\site-packages\\joblib\\_parallel_backends.py\", line 572, in __init__\n",
      "    self.results = batch()\n",
      "  File \"C:\\Users\\matth\\anaconda3\\envs\\Kaggle\\lib\\site-packages\\joblib\\parallel.py\", line 253, in __call__\n",
      "    for func, args, kwargs in self.items]\n",
      "  File \"C:\\Users\\matth\\anaconda3\\envs\\Kaggle\\lib\\site-packages\\joblib\\parallel.py\", line 253, in <listcomp>\n",
      "    for func, args, kwargs in self.items]\n",
      "  File \"C:\\Users\\matth\\anaconda3\\envs\\Kaggle\\lib\\site-packages\\sklearn\\ensemble\\_forest.py\", line 168, in _parallel_build_trees\n",
      "    tree.fit(X, y, sample_weight=curr_sample_weight, check_input=False)\n",
      "  File \"C:\\Users\\matth\\anaconda3\\envs\\Kaggle\\lib\\site-packages\\sklearn\\tree\\_classes.py\", line 894, in fit\n",
      "    X_idx_sorted=X_idx_sorted)\n",
      "  File \"C:\\Users\\matth\\anaconda3\\envs\\Kaggle\\lib\\site-packages\\sklearn\\tree\\_classes.py\", line 279, in fit\n",
      "    raise ValueError(\"max_features must be in (0, n_features]\")\n",
      "ValueError: max_features must be in (0, n_features]\n",
      "\n",
      "  FitFailedWarning)\n"
     ]
    },
    {
     "name": "stdout",
     "output_type": "stream",
     "text": [
      "[CV]  n_estimators=700, max_samples=0.6, max_features=9, max_depth=60, criterion=gini, score=nan, total=   0.2s\n",
      "[CV] n_estimators=850, max_samples=0.1, max_features=7, max_depth=55, criterion=entropy \n",
      "[CV]  n_estimators=850, max_samples=0.1, max_features=7, max_depth=55, criterion=entropy, score=0.686, total=   3.6s\n",
      "[CV] n_estimators=850, max_samples=0.1, max_features=7, max_depth=55, criterion=entropy \n",
      "[CV]  n_estimators=850, max_samples=0.1, max_features=7, max_depth=55, criterion=entropy, score=0.679, total=   3.6s\n",
      "[CV] n_estimators=850, max_samples=0.1, max_features=7, max_depth=55, criterion=entropy \n",
      "[CV]  n_estimators=850, max_samples=0.1, max_features=7, max_depth=55, criterion=entropy, score=0.685, total=   3.6s\n",
      "[CV] n_estimators=550, max_samples=0.30000000000000004, max_features=9, max_depth=45, criterion=entropy \n",
      "[CV]  n_estimators=550, max_samples=0.30000000000000004, max_features=9, max_depth=45, criterion=entropy, score=nan, total=   0.2s\n",
      "[CV] n_estimators=550, max_samples=0.30000000000000004, max_features=9, max_depth=45, criterion=entropy \n"
     ]
    },
    {
     "name": "stderr",
     "output_type": "stream",
     "text": [
      "C:\\Users\\matth\\anaconda3\\envs\\Kaggle\\lib\\site-packages\\sklearn\\model_selection\\_validation.py:552: FitFailedWarning: Estimator fit failed. The score on this train-test partition for these parameters will be set to nan. Details: \n",
      "Traceback (most recent call last):\n",
      "  File \"C:\\Users\\matth\\anaconda3\\envs\\Kaggle\\lib\\site-packages\\sklearn\\model_selection\\_validation.py\", line 531, in _fit_and_score\n",
      "    estimator.fit(X_train, y_train, **fit_params)\n",
      "  File \"C:\\Users\\matth\\anaconda3\\envs\\Kaggle\\lib\\site-packages\\sklearn\\ensemble\\_forest.py\", line 392, in fit\n",
      "    for i, t in enumerate(trees))\n",
      "  File \"C:\\Users\\matth\\anaconda3\\envs\\Kaggle\\lib\\site-packages\\joblib\\parallel.py\", line 1029, in __call__\n",
      "    if self.dispatch_one_batch(iterator):\n",
      "  File \"C:\\Users\\matth\\anaconda3\\envs\\Kaggle\\lib\\site-packages\\joblib\\parallel.py\", line 847, in dispatch_one_batch\n",
      "    self._dispatch(tasks)\n",
      "  File \"C:\\Users\\matth\\anaconda3\\envs\\Kaggle\\lib\\site-packages\\joblib\\parallel.py\", line 765, in _dispatch\n",
      "    job = self._backend.apply_async(batch, callback=cb)\n",
      "  File \"C:\\Users\\matth\\anaconda3\\envs\\Kaggle\\lib\\site-packages\\joblib\\_parallel_backends.py\", line 208, in apply_async\n",
      "    result = ImmediateResult(func)\n",
      "  File \"C:\\Users\\matth\\anaconda3\\envs\\Kaggle\\lib\\site-packages\\joblib\\_parallel_backends.py\", line 572, in __init__\n",
      "    self.results = batch()\n",
      "  File \"C:\\Users\\matth\\anaconda3\\envs\\Kaggle\\lib\\site-packages\\joblib\\parallel.py\", line 253, in __call__\n",
      "    for func, args, kwargs in self.items]\n",
      "  File \"C:\\Users\\matth\\anaconda3\\envs\\Kaggle\\lib\\site-packages\\joblib\\parallel.py\", line 253, in <listcomp>\n",
      "    for func, args, kwargs in self.items]\n",
      "  File \"C:\\Users\\matth\\anaconda3\\envs\\Kaggle\\lib\\site-packages\\sklearn\\ensemble\\_forest.py\", line 168, in _parallel_build_trees\n",
      "    tree.fit(X, y, sample_weight=curr_sample_weight, check_input=False)\n",
      "  File \"C:\\Users\\matth\\anaconda3\\envs\\Kaggle\\lib\\site-packages\\sklearn\\tree\\_classes.py\", line 894, in fit\n",
      "    X_idx_sorted=X_idx_sorted)\n",
      "  File \"C:\\Users\\matth\\anaconda3\\envs\\Kaggle\\lib\\site-packages\\sklearn\\tree\\_classes.py\", line 279, in fit\n",
      "    raise ValueError(\"max_features must be in (0, n_features]\")\n",
      "ValueError: max_features must be in (0, n_features]\n",
      "\n",
      "  FitFailedWarning)\n",
      "C:\\Users\\matth\\anaconda3\\envs\\Kaggle\\lib\\site-packages\\sklearn\\model_selection\\_validation.py:552: FitFailedWarning: Estimator fit failed. The score on this train-test partition for these parameters will be set to nan. Details: \n",
      "Traceback (most recent call last):\n",
      "  File \"C:\\Users\\matth\\anaconda3\\envs\\Kaggle\\lib\\site-packages\\sklearn\\model_selection\\_validation.py\", line 531, in _fit_and_score\n",
      "    estimator.fit(X_train, y_train, **fit_params)\n",
      "  File \"C:\\Users\\matth\\anaconda3\\envs\\Kaggle\\lib\\site-packages\\sklearn\\ensemble\\_forest.py\", line 392, in fit\n",
      "    for i, t in enumerate(trees))\n",
      "  File \"C:\\Users\\matth\\anaconda3\\envs\\Kaggle\\lib\\site-packages\\joblib\\parallel.py\", line 1029, in __call__\n",
      "    if self.dispatch_one_batch(iterator):\n",
      "  File \"C:\\Users\\matth\\anaconda3\\envs\\Kaggle\\lib\\site-packages\\joblib\\parallel.py\", line 847, in dispatch_one_batch\n",
      "    self._dispatch(tasks)\n",
      "  File \"C:\\Users\\matth\\anaconda3\\envs\\Kaggle\\lib\\site-packages\\joblib\\parallel.py\", line 765, in _dispatch\n",
      "    job = self._backend.apply_async(batch, callback=cb)\n",
      "  File \"C:\\Users\\matth\\anaconda3\\envs\\Kaggle\\lib\\site-packages\\joblib\\_parallel_backends.py\", line 208, in apply_async\n",
      "    result = ImmediateResult(func)\n",
      "  File \"C:\\Users\\matth\\anaconda3\\envs\\Kaggle\\lib\\site-packages\\joblib\\_parallel_backends.py\", line 572, in __init__\n",
      "    self.results = batch()\n",
      "  File \"C:\\Users\\matth\\anaconda3\\envs\\Kaggle\\lib\\site-packages\\joblib\\parallel.py\", line 253, in __call__\n",
      "    for func, args, kwargs in self.items]\n",
      "  File \"C:\\Users\\matth\\anaconda3\\envs\\Kaggle\\lib\\site-packages\\joblib\\parallel.py\", line 253, in <listcomp>\n",
      "    for func, args, kwargs in self.items]\n",
      "  File \"C:\\Users\\matth\\anaconda3\\envs\\Kaggle\\lib\\site-packages\\sklearn\\ensemble\\_forest.py\", line 168, in _parallel_build_trees\n",
      "    tree.fit(X, y, sample_weight=curr_sample_weight, check_input=False)\n",
      "  File \"C:\\Users\\matth\\anaconda3\\envs\\Kaggle\\lib\\site-packages\\sklearn\\tree\\_classes.py\", line 894, in fit\n",
      "    X_idx_sorted=X_idx_sorted)\n",
      "  File \"C:\\Users\\matth\\anaconda3\\envs\\Kaggle\\lib\\site-packages\\sklearn\\tree\\_classes.py\", line 279, in fit\n",
      "    raise ValueError(\"max_features must be in (0, n_features]\")\n",
      "ValueError: max_features must be in (0, n_features]\n",
      "\n",
      "  FitFailedWarning)\n",
      "C:\\Users\\matth\\anaconda3\\envs\\Kaggle\\lib\\site-packages\\sklearn\\model_selection\\_validation.py:552: FitFailedWarning: Estimator fit failed. The score on this train-test partition for these parameters will be set to nan. Details: \n",
      "Traceback (most recent call last):\n",
      "  File \"C:\\Users\\matth\\anaconda3\\envs\\Kaggle\\lib\\site-packages\\sklearn\\model_selection\\_validation.py\", line 531, in _fit_and_score\n",
      "    estimator.fit(X_train, y_train, **fit_params)\n",
      "  File \"C:\\Users\\matth\\anaconda3\\envs\\Kaggle\\lib\\site-packages\\sklearn\\ensemble\\_forest.py\", line 392, in fit\n",
      "    for i, t in enumerate(trees))\n",
      "  File \"C:\\Users\\matth\\anaconda3\\envs\\Kaggle\\lib\\site-packages\\joblib\\parallel.py\", line 1029, in __call__\n",
      "    if self.dispatch_one_batch(iterator):\n",
      "  File \"C:\\Users\\matth\\anaconda3\\envs\\Kaggle\\lib\\site-packages\\joblib\\parallel.py\", line 847, in dispatch_one_batch\n",
      "    self._dispatch(tasks)\n",
      "  File \"C:\\Users\\matth\\anaconda3\\envs\\Kaggle\\lib\\site-packages\\joblib\\parallel.py\", line 765, in _dispatch\n",
      "    job = self._backend.apply_async(batch, callback=cb)\n",
      "  File \"C:\\Users\\matth\\anaconda3\\envs\\Kaggle\\lib\\site-packages\\joblib\\_parallel_backends.py\", line 208, in apply_async\n",
      "    result = ImmediateResult(func)\n",
      "  File \"C:\\Users\\matth\\anaconda3\\envs\\Kaggle\\lib\\site-packages\\joblib\\_parallel_backends.py\", line 572, in __init__\n",
      "    self.results = batch()\n",
      "  File \"C:\\Users\\matth\\anaconda3\\envs\\Kaggle\\lib\\site-packages\\joblib\\parallel.py\", line 253, in __call__\n",
      "    for func, args, kwargs in self.items]\n",
      "  File \"C:\\Users\\matth\\anaconda3\\envs\\Kaggle\\lib\\site-packages\\joblib\\parallel.py\", line 253, in <listcomp>\n",
      "    for func, args, kwargs in self.items]\n",
      "  File \"C:\\Users\\matth\\anaconda3\\envs\\Kaggle\\lib\\site-packages\\sklearn\\ensemble\\_forest.py\", line 168, in _parallel_build_trees\n",
      "    tree.fit(X, y, sample_weight=curr_sample_weight, check_input=False)\n",
      "  File \"C:\\Users\\matth\\anaconda3\\envs\\Kaggle\\lib\\site-packages\\sklearn\\tree\\_classes.py\", line 894, in fit\n",
      "    X_idx_sorted=X_idx_sorted)\n",
      "  File \"C:\\Users\\matth\\anaconda3\\envs\\Kaggle\\lib\\site-packages\\sklearn\\tree\\_classes.py\", line 279, in fit\n",
      "    raise ValueError(\"max_features must be in (0, n_features]\")\n",
      "ValueError: max_features must be in (0, n_features]\n",
      "\n",
      "  FitFailedWarning)\n"
     ]
    },
    {
     "name": "stdout",
     "output_type": "stream",
     "text": [
      "[CV]  n_estimators=550, max_samples=0.30000000000000004, max_features=9, max_depth=45, criterion=entropy, score=nan, total=   0.2s\n",
      "[CV] n_estimators=550, max_samples=0.30000000000000004, max_features=9, max_depth=45, criterion=entropy \n",
      "[CV]  n_estimators=550, max_samples=0.30000000000000004, max_features=9, max_depth=45, criterion=entropy, score=nan, total=   0.2s\n",
      "[CV] n_estimators=550, max_samples=0.4, max_features=9, max_depth=55, criterion=gini \n"
     ]
    },
    {
     "name": "stderr",
     "output_type": "stream",
     "text": [
      "C:\\Users\\matth\\anaconda3\\envs\\Kaggle\\lib\\site-packages\\sklearn\\model_selection\\_validation.py:552: FitFailedWarning: Estimator fit failed. The score on this train-test partition for these parameters will be set to nan. Details: \n",
      "Traceback (most recent call last):\n",
      "  File \"C:\\Users\\matth\\anaconda3\\envs\\Kaggle\\lib\\site-packages\\sklearn\\model_selection\\_validation.py\", line 531, in _fit_and_score\n",
      "    estimator.fit(X_train, y_train, **fit_params)\n",
      "  File \"C:\\Users\\matth\\anaconda3\\envs\\Kaggle\\lib\\site-packages\\sklearn\\ensemble\\_forest.py\", line 392, in fit\n",
      "    for i, t in enumerate(trees))\n",
      "  File \"C:\\Users\\matth\\anaconda3\\envs\\Kaggle\\lib\\site-packages\\joblib\\parallel.py\", line 1029, in __call__\n",
      "    if self.dispatch_one_batch(iterator):\n",
      "  File \"C:\\Users\\matth\\anaconda3\\envs\\Kaggle\\lib\\site-packages\\joblib\\parallel.py\", line 847, in dispatch_one_batch\n",
      "    self._dispatch(tasks)\n",
      "  File \"C:\\Users\\matth\\anaconda3\\envs\\Kaggle\\lib\\site-packages\\joblib\\parallel.py\", line 765, in _dispatch\n",
      "    job = self._backend.apply_async(batch, callback=cb)\n",
      "  File \"C:\\Users\\matth\\anaconda3\\envs\\Kaggle\\lib\\site-packages\\joblib\\_parallel_backends.py\", line 208, in apply_async\n",
      "    result = ImmediateResult(func)\n",
      "  File \"C:\\Users\\matth\\anaconda3\\envs\\Kaggle\\lib\\site-packages\\joblib\\_parallel_backends.py\", line 572, in __init__\n",
      "    self.results = batch()\n",
      "  File \"C:\\Users\\matth\\anaconda3\\envs\\Kaggle\\lib\\site-packages\\joblib\\parallel.py\", line 253, in __call__\n",
      "    for func, args, kwargs in self.items]\n",
      "  File \"C:\\Users\\matth\\anaconda3\\envs\\Kaggle\\lib\\site-packages\\joblib\\parallel.py\", line 253, in <listcomp>\n",
      "    for func, args, kwargs in self.items]\n",
      "  File \"C:\\Users\\matth\\anaconda3\\envs\\Kaggle\\lib\\site-packages\\sklearn\\ensemble\\_forest.py\", line 168, in _parallel_build_trees\n",
      "    tree.fit(X, y, sample_weight=curr_sample_weight, check_input=False)\n",
      "  File \"C:\\Users\\matth\\anaconda3\\envs\\Kaggle\\lib\\site-packages\\sklearn\\tree\\_classes.py\", line 894, in fit\n",
      "    X_idx_sorted=X_idx_sorted)\n",
      "  File \"C:\\Users\\matth\\anaconda3\\envs\\Kaggle\\lib\\site-packages\\sklearn\\tree\\_classes.py\", line 279, in fit\n",
      "    raise ValueError(\"max_features must be in (0, n_features]\")\n",
      "ValueError: max_features must be in (0, n_features]\n",
      "\n",
      "  FitFailedWarning)\n",
      "C:\\Users\\matth\\anaconda3\\envs\\Kaggle\\lib\\site-packages\\sklearn\\model_selection\\_validation.py:552: FitFailedWarning: Estimator fit failed. The score on this train-test partition for these parameters will be set to nan. Details: \n",
      "Traceback (most recent call last):\n",
      "  File \"C:\\Users\\matth\\anaconda3\\envs\\Kaggle\\lib\\site-packages\\sklearn\\model_selection\\_validation.py\", line 531, in _fit_and_score\n",
      "    estimator.fit(X_train, y_train, **fit_params)\n",
      "  File \"C:\\Users\\matth\\anaconda3\\envs\\Kaggle\\lib\\site-packages\\sklearn\\ensemble\\_forest.py\", line 392, in fit\n",
      "    for i, t in enumerate(trees))\n",
      "  File \"C:\\Users\\matth\\anaconda3\\envs\\Kaggle\\lib\\site-packages\\joblib\\parallel.py\", line 1029, in __call__\n",
      "    if self.dispatch_one_batch(iterator):\n",
      "  File \"C:\\Users\\matth\\anaconda3\\envs\\Kaggle\\lib\\site-packages\\joblib\\parallel.py\", line 847, in dispatch_one_batch\n",
      "    self._dispatch(tasks)\n",
      "  File \"C:\\Users\\matth\\anaconda3\\envs\\Kaggle\\lib\\site-packages\\joblib\\parallel.py\", line 765, in _dispatch\n",
      "    job = self._backend.apply_async(batch, callback=cb)\n",
      "  File \"C:\\Users\\matth\\anaconda3\\envs\\Kaggle\\lib\\site-packages\\joblib\\_parallel_backends.py\", line 208, in apply_async\n",
      "    result = ImmediateResult(func)\n",
      "  File \"C:\\Users\\matth\\anaconda3\\envs\\Kaggle\\lib\\site-packages\\joblib\\_parallel_backends.py\", line 572, in __init__\n",
      "    self.results = batch()\n",
      "  File \"C:\\Users\\matth\\anaconda3\\envs\\Kaggle\\lib\\site-packages\\joblib\\parallel.py\", line 253, in __call__\n",
      "    for func, args, kwargs in self.items]\n",
      "  File \"C:\\Users\\matth\\anaconda3\\envs\\Kaggle\\lib\\site-packages\\joblib\\parallel.py\", line 253, in <listcomp>\n",
      "    for func, args, kwargs in self.items]\n",
      "  File \"C:\\Users\\matth\\anaconda3\\envs\\Kaggle\\lib\\site-packages\\sklearn\\ensemble\\_forest.py\", line 168, in _parallel_build_trees\n",
      "    tree.fit(X, y, sample_weight=curr_sample_weight, check_input=False)\n",
      "  File \"C:\\Users\\matth\\anaconda3\\envs\\Kaggle\\lib\\site-packages\\sklearn\\tree\\_classes.py\", line 894, in fit\n",
      "    X_idx_sorted=X_idx_sorted)\n",
      "  File \"C:\\Users\\matth\\anaconda3\\envs\\Kaggle\\lib\\site-packages\\sklearn\\tree\\_classes.py\", line 279, in fit\n",
      "    raise ValueError(\"max_features must be in (0, n_features]\")\n",
      "ValueError: max_features must be in (0, n_features]\n",
      "\n",
      "  FitFailedWarning)\n"
     ]
    },
    {
     "name": "stdout",
     "output_type": "stream",
     "text": [
      "[CV]  n_estimators=550, max_samples=0.4, max_features=9, max_depth=55, criterion=gini, score=nan, total=   0.2s\n",
      "[CV] n_estimators=550, max_samples=0.4, max_features=9, max_depth=55, criterion=gini \n",
      "[CV]  n_estimators=550, max_samples=0.4, max_features=9, max_depth=55, criterion=gini, score=nan, total=   0.2s\n",
      "[CV] n_estimators=550, max_samples=0.4, max_features=9, max_depth=55, criterion=gini \n"
     ]
    },
    {
     "name": "stderr",
     "output_type": "stream",
     "text": [
      "C:\\Users\\matth\\anaconda3\\envs\\Kaggle\\lib\\site-packages\\sklearn\\model_selection\\_validation.py:552: FitFailedWarning: Estimator fit failed. The score on this train-test partition for these parameters will be set to nan. Details: \n",
      "Traceback (most recent call last):\n",
      "  File \"C:\\Users\\matth\\anaconda3\\envs\\Kaggle\\lib\\site-packages\\sklearn\\model_selection\\_validation.py\", line 531, in _fit_and_score\n",
      "    estimator.fit(X_train, y_train, **fit_params)\n",
      "  File \"C:\\Users\\matth\\anaconda3\\envs\\Kaggle\\lib\\site-packages\\sklearn\\ensemble\\_forest.py\", line 392, in fit\n",
      "    for i, t in enumerate(trees))\n",
      "  File \"C:\\Users\\matth\\anaconda3\\envs\\Kaggle\\lib\\site-packages\\joblib\\parallel.py\", line 1029, in __call__\n",
      "    if self.dispatch_one_batch(iterator):\n",
      "  File \"C:\\Users\\matth\\anaconda3\\envs\\Kaggle\\lib\\site-packages\\joblib\\parallel.py\", line 847, in dispatch_one_batch\n",
      "    self._dispatch(tasks)\n",
      "  File \"C:\\Users\\matth\\anaconda3\\envs\\Kaggle\\lib\\site-packages\\joblib\\parallel.py\", line 765, in _dispatch\n",
      "    job = self._backend.apply_async(batch, callback=cb)\n",
      "  File \"C:\\Users\\matth\\anaconda3\\envs\\Kaggle\\lib\\site-packages\\joblib\\_parallel_backends.py\", line 208, in apply_async\n",
      "    result = ImmediateResult(func)\n",
      "  File \"C:\\Users\\matth\\anaconda3\\envs\\Kaggle\\lib\\site-packages\\joblib\\_parallel_backends.py\", line 572, in __init__\n",
      "    self.results = batch()\n",
      "  File \"C:\\Users\\matth\\anaconda3\\envs\\Kaggle\\lib\\site-packages\\joblib\\parallel.py\", line 253, in __call__\n",
      "    for func, args, kwargs in self.items]\n",
      "  File \"C:\\Users\\matth\\anaconda3\\envs\\Kaggle\\lib\\site-packages\\joblib\\parallel.py\", line 253, in <listcomp>\n",
      "    for func, args, kwargs in self.items]\n",
      "  File \"C:\\Users\\matth\\anaconda3\\envs\\Kaggle\\lib\\site-packages\\sklearn\\ensemble\\_forest.py\", line 168, in _parallel_build_trees\n",
      "    tree.fit(X, y, sample_weight=curr_sample_weight, check_input=False)\n",
      "  File \"C:\\Users\\matth\\anaconda3\\envs\\Kaggle\\lib\\site-packages\\sklearn\\tree\\_classes.py\", line 894, in fit\n",
      "    X_idx_sorted=X_idx_sorted)\n",
      "  File \"C:\\Users\\matth\\anaconda3\\envs\\Kaggle\\lib\\site-packages\\sklearn\\tree\\_classes.py\", line 279, in fit\n",
      "    raise ValueError(\"max_features must be in (0, n_features]\")\n",
      "ValueError: max_features must be in (0, n_features]\n",
      "\n",
      "  FitFailedWarning)\n"
     ]
    },
    {
     "name": "stdout",
     "output_type": "stream",
     "text": [
      "[CV]  n_estimators=550, max_samples=0.4, max_features=9, max_depth=55, criterion=gini, score=nan, total=   0.2s\n",
      "[CV] n_estimators=800, max_samples=0.6, max_features=7, max_depth=35, criterion=gini \n",
      "[CV]  n_estimators=800, max_samples=0.6, max_features=7, max_depth=35, criterion=gini, score=0.689, total=   9.6s\n",
      "[CV] n_estimators=800, max_samples=0.6, max_features=7, max_depth=35, criterion=gini \n",
      "[CV]  n_estimators=800, max_samples=0.6, max_features=7, max_depth=35, criterion=gini, score=0.683, total=   9.5s\n",
      "[CV] n_estimators=800, max_samples=0.6, max_features=7, max_depth=35, criterion=gini \n",
      "[CV]  n_estimators=800, max_samples=0.6, max_features=7, max_depth=35, criterion=gini, score=0.690, total=   9.4s\n",
      "[CV] n_estimators=550, max_samples=0.4, max_features=5, max_depth=65, criterion=entropy \n",
      "[CV]  n_estimators=550, max_samples=0.4, max_features=5, max_depth=65, criterion=entropy, score=0.686, total=   6.2s\n",
      "[CV] n_estimators=550, max_samples=0.4, max_features=5, max_depth=65, criterion=entropy \n",
      "[CV]  n_estimators=550, max_samples=0.4, max_features=5, max_depth=65, criterion=entropy, score=0.692, total=   6.2s\n",
      "[CV] n_estimators=550, max_samples=0.4, max_features=5, max_depth=65, criterion=entropy \n",
      "[CV]  n_estimators=550, max_samples=0.4, max_features=5, max_depth=65, criterion=entropy, score=0.694, total=   6.4s\n",
      "[CV] n_estimators=850, max_samples=0.8, max_features=7, max_depth=35, criterion=entropy \n",
      "[CV]  n_estimators=850, max_samples=0.8, max_features=7, max_depth=35, criterion=entropy, score=0.684, total=  22.5s\n",
      "[CV] n_estimators=850, max_samples=0.8, max_features=7, max_depth=35, criterion=entropy \n",
      "[CV]  n_estimators=850, max_samples=0.8, max_features=7, max_depth=35, criterion=entropy, score=0.680, total=  22.6s\n",
      "[CV] n_estimators=850, max_samples=0.8, max_features=7, max_depth=35, criterion=entropy \n",
      "[CV]  n_estimators=850, max_samples=0.8, max_features=7, max_depth=35, criterion=entropy, score=0.693, total=  22.9s\n"
     ]
    },
    {
     "name": "stderr",
     "output_type": "stream",
     "text": [
      "[Parallel(n_jobs=1)]: Done  30 out of  30 | elapsed:  2.4min finished\n"
     ]
    },
    {
     "data": {
      "text/plain": [
       "({'n_estimators': 550,\n",
       "  'max_samples': 0.4,\n",
       "  'max_features': 5,\n",
       "  'max_depth': 65,\n",
       "  'criterion': 'entropy'},\n",
       " 0.6906975175050332)"
      ]
     },
     "execution_count": 132,
     "metadata": {},
     "output_type": "execute_result"
    }
   ],
   "source": [
    "rfc_random=RandomizedSearchCV(rfc,param_distributions=rfc_params,scoring='f1_weighted',cv=3, verbose=10)\n",
    "rfc_random.fit(X_train_pca,y_train)\n",
    "rfc_random.best_params_,rfc_random.best_score_"
   ]
  },
  {
   "cell_type": "code",
   "execution_count": 133,
   "metadata": {},
   "outputs": [
    {
     "data": {
      "text/plain": [
       "0.7079954235093563"
      ]
     },
     "execution_count": 133,
     "metadata": {},
     "output_type": "execute_result"
    }
   ],
   "source": [
    "f1_score(y_test,rfc_random.best_estimator_.predict(X_test_pca),average='weighted')"
   ]
  },
  {
   "cell_type": "code",
   "execution_count": 136,
   "metadata": {},
   "outputs": [],
   "source": [
    "ensemble=VotingClassifier(estimators=[('dtr',dtr),('rfc',rfc_random.best_estimator_),('knn',knn_random.best_estimator_)])"
   ]
  },
  {
   "cell_type": "code",
   "execution_count": 137,
   "metadata": {},
   "outputs": [
    {
     "data": {
      "text/plain": [
       "VotingClassifier(estimators=[('dtr', DecisionTreeClassifier()),\n",
       "                             ('rfc',\n",
       "                              RandomForestClassifier(criterion='entropy',\n",
       "                                                     max_depth=65,\n",
       "                                                     max_features=5,\n",
       "                                                     max_samples=0.4,\n",
       "                                                     n_estimators=550)),\n",
       "                             ('knn',\n",
       "                              KNeighborsClassifier(algorithm='brute',\n",
       "                                                   leaf_size=10, n_neighbors=3,\n",
       "                                                   p=1))])"
      ]
     },
     "execution_count": 137,
     "metadata": {},
     "output_type": "execute_result"
    }
   ],
   "source": [
    "ensemble.fit(X_train_pca,y_train)"
   ]
  },
  {
   "cell_type": "code",
   "execution_count": 138,
   "metadata": {},
   "outputs": [
    {
     "data": {
      "text/plain": [
       "0.6969824368725357"
      ]
     },
     "execution_count": 138,
     "metadata": {},
     "output_type": "execute_result"
    }
   ],
   "source": [
    "f1_score(y_test,ensemble.predict(X_test_pca),average='weighted')"
   ]
  },
  {
   "cell_type": "code",
   "execution_count": null,
   "metadata": {
    "collapsed": true
   },
   "outputs": [],
   "source": []
  },
  {
   "cell_type": "code",
   "execution_count": 75,
   "metadata": {
    "collapsed": true
   },
   "outputs": [],
   "source": [
    "pipeline_sgd=Pipeline(steps=[('tfidf',tfidf),('sgd',SGDClassifier() )])\n",
    "\n",
    "#Workshop params\n",
    "pipeline_params = {\n",
    "    'sgd__loss': ['hinge', 'log'],\n",
    "    'sgd__penalty': ['l1', 'l2', 'elasticnet'],\n",
    "    'sgd__alpha': [.0001, .0005, .001]    \n",
    "}\n",
    "# Apparently my params don't work... maybe its the way the keys are spelled\n",
    "#pipeline_params={\n",
    "#    'sgd_loss': ['hinge','log'],\n",
    "#    'sgd_penalty': ['l2','l1','elasticnet'],\n",
    "#    'sgd_alpha': [0.0001,0.0005,0.001]\n",
    "#    \n",
    "#}"
   ]
  },
  {
   "cell_type": "code",
   "execution_count": 77,
   "metadata": {
    "collapsed": true
   },
   "outputs": [],
   "source": [
    "def fit_cross_validate_model(algo,params,X_train,X_test,y_train,y_test):\n",
    "    gs=GridSearchCV(algo,params,scoring=['precision_macro','recall_macro','accuracy'],refit='precision_macro',n_jobs=4,verbose=10)\n",
    "    gs.fit(X_train,y_train)\n",
    "    print('best params: ',gs.best_params_)\n",
    "    print('score on test set: ',gs.score(X_test,y_test))\n",
    "    return( gs , gs.predict(X_test) )"
   ]
  },
  {
   "cell_type": "code",
   "execution_count": 78,
   "metadata": {
    "collapsed": true
   },
   "outputs": [
    {
     "name": "stdout",
     "output_type": "stream",
     "text": [
      "Fitting 5 folds for each of 18 candidates, totalling 90 fits\n"
     ]
    },
    {
     "name": "stderr",
     "output_type": "stream",
     "text": [
      "[Parallel(n_jobs=4)]: Using backend LokyBackend with 4 concurrent workers.\n",
      "[Parallel(n_jobs=4)]: Done   5 tasks      | elapsed:    8.6s\n",
      "[Parallel(n_jobs=4)]: Done  10 tasks      | elapsed:   12.5s\n",
      "[Parallel(n_jobs=4)]: Done  17 tasks      | elapsed:   20.8s\n",
      "[Parallel(n_jobs=4)]: Done  24 tasks      | elapsed:   25.0s\n",
      "[Parallel(n_jobs=4)]: Done  33 tasks      | elapsed:   36.9s\n",
      "[Parallel(n_jobs=4)]: Done  42 tasks      | elapsed:   44.4s\n",
      "[Parallel(n_jobs=4)]: Done  53 tasks      | elapsed:   56.1s\n",
      "[Parallel(n_jobs=4)]: Done  64 tasks      | elapsed:  1.1min\n",
      "[Parallel(n_jobs=4)]: Done  77 tasks      | elapsed:  1.4min\n",
      "[Parallel(n_jobs=4)]: Done  90 out of  90 | elapsed:  1.6min finished\n"
     ]
    },
    {
     "name": "stdout",
     "output_type": "stream",
     "text": [
      "best params:  {'sgd__alpha': 0.001, 'sgd__loss': 'hinge', 'sgd__penalty': 'l2'}\n",
      "score on test set:  0.8203968253968255\n"
     ]
    }
   ],
   "source": [
    "gs_sgd , pred_sgd  =fit_cross_validate_model(pipeline_sgd,pipeline_params,X_train,X_test,y_train,y_test)"
   ]
  },
  {
   "cell_type": "code",
   "execution_count": 80,
   "metadata": {
    "collapsed": true
   },
   "outputs": [
    {
     "name": "stdout",
     "output_type": "stream",
     "text": [
      "              precision    recall  f1-score   support\n",
      "\n",
      "           0       0.74      0.95      0.83      1086\n",
      "           1       0.90      0.56      0.69       818\n",
      "\n",
      "    accuracy                           0.78      1904\n",
      "   macro avg       0.82      0.75      0.76      1904\n",
      "weighted avg       0.81      0.78      0.77      1904\n",
      "\n"
     ]
    }
   ],
   "source": [
    "print(classification_report(y_test,pred_sgd))"
   ]
  },
  {
   "cell_type": "code",
   "execution_count": null,
   "metadata": {
    "collapsed": true
   },
   "outputs": [],
   "source": []
  }
 ],
 "metadata": {
  "kernelspec": {
   "display_name": "Python 3",
   "language": "python",
   "name": "python3"
  },
  "language_info": {
   "codemirror_mode": {
    "name": "ipython",
    "version": 3
   },
   "file_extension": ".py",
   "mimetype": "text/x-python",
   "name": "python",
   "nbconvert_exporter": "python",
   "pygments_lexer": "ipython3",
   "version": "3.7.9"
  }
 },
 "nbformat": 4,
 "nbformat_minor": 4
}
